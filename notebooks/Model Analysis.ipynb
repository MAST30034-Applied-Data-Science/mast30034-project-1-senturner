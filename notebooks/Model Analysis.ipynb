{
 "cells": [
  {
   "cell_type": "markdown",
   "id": "d70eccbd",
   "metadata": {},
   "source": [
    "<h1>Model Analysis<h1>"
   ]
  },
  {
   "cell_type": "code",
   "execution_count": 1,
   "id": "56e2f968",
   "metadata": {},
   "outputs": [],
   "source": [
    "import pandas as pd\n",
    "import matplotlib"
   ]
  },
  {
   "cell_type": "code",
   "execution_count": 3,
   "id": "3a9185c3",
   "metadata": {},
   "outputs": [],
   "source": [
    "num_trips_pred_NN = pd.read_csv('../data/curated/model_data/num_trips_pred_nn.csv')"
   ]
  },
  {
   "cell_type": "code",
   "execution_count": null,
   "id": "34ab29a1",
   "metadata": {},
   "outputs": [],
   "source": [
    "avg_driver_pay_pred_NN = pd.read_csv('../data/curated/model_data/avg_driver_pay_pred_nn.csv')"
   ]
  },
  {
   "cell_type": "code",
   "execution_count": 4,
   "id": "48867902",
   "metadata": {},
   "outputs": [],
   "source": [
    "num_trips_pred_RF = pd.read_csv('../data/curated/model_data/num_trips_pred_rf.csv')"
   ]
  },
  {
   "cell_type": "code",
   "execution_count": null,
   "id": "7d602eeb",
   "metadata": {},
   "outputs": [],
   "source": [
    "avg_driver_pay_pred_RF = pd.read_csv('../data/curated/model_data/avg_driver_pay_pred_rf.csv')"
   ]
  },
  {
   "cell_type": "code",
   "execution_count": 5,
   "id": "362e3963",
   "metadata": {},
   "outputs": [],
   "source": [
    "test_data = pd.read_csv('../data/curated/model_data/test_data.csv')"
   ]
  },
  {
   "cell_type": "code",
   "execution_count": 8,
   "id": "5a58411a",
   "metadata": {},
   "outputs": [],
   "source": [
    "test_data.loc[:, 'prediction_num_trips_nn'] = num_trips_pred_NN['0']\n",
    "test_data.loc[:, 'prediction_num_trips_rf'] = num_trips_pred_RF['prediction']"
   ]
  },
  {
   "cell_type": "code",
   "execution_count": null,
   "id": "c8935920",
   "metadata": {},
   "outputs": [],
   "source": [
    "test_data.loc[:, 'prediction_avg_driver_pay_nn'] = avg_driver_pay_pred_NN['0']\n",
    "test_data.loc[:, 'prediction_avg_driver_pay_rf'] = avg_driver_pay_pred_RF['prediction']"
   ]
  },
  {
   "cell_type": "markdown",
   "id": "5447eada",
   "metadata": {},
   "source": [
    "Isolate a specific pickup location and day for graphing predictions vs reality"
   ]
  },
  {
   "cell_type": "code",
   "execution_count": 9,
   "id": "81eb0e9e",
   "metadata": {},
   "outputs": [],
   "source": [
    "hourly_data = test_data.loc[test_data['Date'] == '2019-11-30'].loc[test_data['PU_Location_ID_3'] == 1]"
   ]
  },
  {
   "cell_type": "code",
   "execution_count": 12,
   "id": "184eb485",
   "metadata": {
    "scrolled": true
   },
   "outputs": [],
   "source": [
    "hourly_data = hourly_data[['Avg_driver_pay', 'Num_trips', 'prediction_num_trips_nn','prediction_num_trips_rf','prediction_avg_driver_pay_nn', 'prediction_avg_driver_pay_rf']]"
   ]
  },
  {
   "cell_type": "code",
   "execution_count": 13,
   "id": "5b18eab6",
   "metadata": {},
   "outputs": [
    {
     "name": "stderr",
     "output_type": "stream",
     "text": [
      "/var/folders/k2/q4lnp11x0dz2_w8bl88s6hwh0000gn/T/ipykernel_7711/2587859116.py:1: SettingWithCopyWarning: \n",
      "A value is trying to be set on a copy of a slice from a DataFrame.\n",
      "Try using .loc[row_indexer,col_indexer] = value instead\n",
      "\n",
      "See the caveats in the documentation: https://pandas.pydata.org/pandas-docs/stable/user_guide/indexing.html#returning-a-view-versus-a-copy\n",
      "  hourly_data.loc[:,'Hour'] = range(0,24,1)\n"
     ]
    }
   ],
   "source": [
    "hourly_data.loc[:,'Hour'] = range(0,24,1)"
   ]
  },
  {
   "cell_type": "code",
   "execution_count": 14,
   "id": "383c385f",
   "metadata": {},
   "outputs": [
    {
     "data": {
      "text/plain": [
       "<AxesSubplot:xlabel='Hour'>"
      ]
     },
     "execution_count": 14,
     "metadata": {},
     "output_type": "execute_result"
    },
    {
     "data": {
      "image/png": "[encoded data removed]",
      "text/plain": [
       "<Figure size 432x288 with 1 Axes>"
      ]
     },
     "metadata": {
      "needs_background": "light"
     },
     "output_type": "display_data"
    }
   ],
   "source": [
    "hourly_data.plot.bar('Hour', ['Num_trips','prediction_num_trips_nn', 'prediction_num_trips_rf'])"
   ]
  },
  {
   "cell_type": "code",
   "execution_count": null,
   "id": "025f660a",
   "metadata": {},
   "outputs": [],
   "source": [
    "hourly_data.plot.bar('Hour', ['Avg_driver_pay','prediction_avg_driver_pay_nn', 'prediction_avg_driver_pay_rf'])"
   ]
  }
 ],
 "metadata": {
  "kernelspec": {
   "display_name": "Python 3 (ipykernel)",
   "language": "python",
   "name": "python3"
  },
  "language_info": {
   "codemirror_mode": {
    "name": "ipython",
    "version": 3
   },
   "file_extension": ".py",
   "mimetype": "text/x-python",
   "name": "python",
   "nbconvert_exporter": "python",
   "pygments_lexer": "ipython3",
   "version": "3.9.13"
  }
 },
 "nbformat": 4,
 "nbformat_minor": 5
}
