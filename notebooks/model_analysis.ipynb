{
 "cells": [
  {
   "cell_type": "markdown",
   "id": "16825618",
   "metadata": {},
   "source": [
    "<h1>Model Analysis<h1>"
   ]
  },
  {
   "cell_type": "code",
   "execution_count": 1,
   "id": "77f314c0",
   "metadata": {},
   "outputs": [],
   "source": [
    "import pandas as pd\n",
    "import matplotlib"
   ]
  },
  {
   "cell_type": "code",
   "execution_count": 2,
   "id": "a62038a4",
   "metadata": {},
   "outputs": [],
   "source": [
    "num_trips_pred_NN = pd.read_csv('../data/curated/model_data/num_trips_pred_nn.csv')"
   ]
  },
  {
   "cell_type": "code",
   "execution_count": 3,
   "id": "b6d46416",
   "metadata": {},
   "outputs": [],
   "source": [
    "avg_driver_pay_pred_NN = pd.read_csv('../data/curated/model_data/avg_driver_pay_pred_nn.csv')"
   ]
  },
  {
   "cell_type": "code",
   "execution_count": 4,
   "id": "c50c5120",
   "metadata": {},
   "outputs": [],
   "source": [
    "num_trips_pred_RF = pd.read_csv('../data/curated/model_data/num_trips_pred_rf.csv')"
   ]
  },
  {
   "cell_type": "code",
   "execution_count": 5,
   "id": "5f869b2e",
   "metadata": {},
   "outputs": [],
   "source": [
    "avg_driver_pay_pred_RF = pd.read_csv('../data/curated/model_data/avg_driver_pay_pred_rf.csv')"
   ]
  },
  {
   "cell_type": "code",
   "execution_count": 6,
   "id": "124a0074",
   "metadata": {},
   "outputs": [],
   "source": [
    "test_data = pd.read_csv('../data/curated/model_data/test_data.csv')"
   ]
  },
  {
   "cell_type": "code",
   "execution_count": 7,
   "id": "02c43bca",
   "metadata": {},
   "outputs": [],
   "source": [
    "test_data.loc[:, 'prediction_num_trips_nn'] = num_trips_pred_NN['0']\n",
    "test_data.loc[:, 'prediction_num_trips_rf'] = num_trips_pred_RF['prediction']"
   ]
  },
  {
   "cell_type": "code",
   "execution_count": 8,
   "id": "caf284de",
   "metadata": {},
   "outputs": [],
   "source": [
    "test_data.loc[:, 'prediction_avg_driver_pay_nn'] = avg_driver_pay_pred_NN['0']\n",
    "test_data.loc[:, 'prediction_avg_driver_pay_rf'] = avg_driver_pay_pred_RF['prediction']"
   ]
  },
  {
   "cell_type": "markdown",
   "id": "21739d35",
   "metadata": {},
   "source": [
    "Isolate a specific pickup location and day for graphing predictions vs reality"
   ]
  },
  {
   "cell_type": "code",
   "execution_count": 9,
   "id": "5b5abe28",
   "metadata": {},
   "outputs": [],
   "source": [
    "hourly_data = test_data.loc[test_data['Date'] == '2019-11-30'].loc[test_data['PU_Location_ID_3'] == 1]"
   ]
  },
  {
   "cell_type": "code",
   "execution_count": 10,
   "id": "51c38f48",
   "metadata": {
    "scrolled": true
   },
   "outputs": [],
   "source": [
    "hourly_data = hourly_data[['Avg_driver_pay', 'Num_trips', 'prediction_num_trips_nn','prediction_num_trips_rf','prediction_avg_driver_pay_nn', 'prediction_avg_driver_pay_rf']]"
   ]
  },
  {
   "cell_type": "code",
   "execution_count": 11,
   "id": "9a3eda64",
   "metadata": {},
   "outputs": [],
   "source": [
    "hourly_data.loc[:,'Hour'] = range(0,24,1)"
   ]
  },
  {
   "cell_type": "code",
   "execution_count": 12,
   "id": "f6ce3c76",
   "metadata": {},
   "outputs": [
    {
     "data": {
      "text/plain": [
       "<AxesSubplot:xlabel='Hour'>"
      ]
     },
     "execution_count": 12,
     "metadata": {},
     "output_type": "execute_result"
    },
    {
     "data": {
      "image/png": "[encoded data removed]",
      "text/plain": [
       "<Figure size 432x288 with 1 Axes>"
      ]
     },
     "metadata": {
      "needs_background": "light"
     },
     "output_type": "display_data"
    }
   ],
   "source": [
    "hourly_data.plot.bar('Hour', ['Num_trips','prediction_num_trips_nn', 'prediction_num_trips_rf'])"
   ]
  },
  {
   "cell_type": "code",
   "execution_count": 13,
   "id": "e8fce9be",
   "metadata": {},
   "outputs": [
    {
     "data": {
      "text/plain": [
       "<AxesSubplot:xlabel='Hour'>"
      ]
     },
     "execution_count": 13,
     "metadata": {},
     "output_type": "execute_result"
    },
    {
     "data": {
      "image/png": "[encoded data removed]",
      "text/plain": [
       "<Figure size 432x288 with 1 Axes>"
      ]
     },
     "metadata": {
      "needs_background": "light"
     },
     "output_type": "display_data"
    }
   ],
   "source": [
    "hourly_data.plot.bar('Hour', ['Avg_driver_pay','prediction_avg_driver_pay_nn', 'prediction_avg_driver_pay_rf'])"
   ]
  }
 ],
 "metadata": {
  "kernelspec": {
   "display_name": "Python 3 (ipykernel)",
   "language": "python",
   "name": "python3"
  },
  "language_info": {
   "codemirror_mode": {
    "name": "ipython",
    "version": 3
   },
   "file_extension": ".py",
   "mimetype": "text/x-python",
   "name": "python",
   "nbconvert_exporter": "python",
   "pygments_lexer": "ipython3",
   "version": "3.9.13"
  }
 },
 "nbformat": 4,
 "nbformat_minor": 5
}
