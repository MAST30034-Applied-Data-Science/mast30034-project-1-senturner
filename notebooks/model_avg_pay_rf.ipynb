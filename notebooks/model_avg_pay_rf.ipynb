{
 "cells": [
  {
   "cell_type": "markdown",
   "id": "0f7489b7-281d-43de-b235-f2d3914027fa",
   "metadata": {},
   "source": [
    "<h1>Random Forest - Average Driver Pay<h1>"
   ]
  },
  {
   "cell_type": "code",
   "execution_count": 1,
   "id": "b851ab5b",
   "metadata": {},
   "outputs": [],
   "source": [
    "from tensorflow import keras\n",
    "from tensorflow.keras.layers import Dense, Normalization"
   ]
  },
  {
   "cell_type": "code",
   "execution_count": 2,
   "id": "01cd8d14",
   "metadata": {},
   "outputs": [],
   "source": [
    "from pyspark.ml import Pipeline\n",
    "from pyspark.ml.regression import RandomForestRegressor\n",
    "from pyspark.ml.feature import VectorIndexer\n",
    "from pyspark.ml.evaluation import RegressionEvaluator\n",
    "from pyspark.ml.feature import VectorAssembler\n",
    "from pyspark.sql.functions import percent_rank\n",
    "from pyspark.sql import Window\n",
    "from pyspark.ml.tuning import CrossValidator\n",
    "from pyspark.sql import SparkSession\n",
    "from pyspark.sql import functions as F\n",
    "from pyspark.sql.functions import sum,avg,max,min,mean,count\n",
    "import numpy as np\n",
    "import pandas as pd"
   ]
  },
  {
   "cell_type": "code",
   "execution_count": 3,
   "id": "716b7f7f",
   "metadata": {},
   "outputs": [],
   "source": [
    "import warnings\n",
    "warnings.filterwarnings('ignore')\n",
    "warnings.simplefilter('ignore')"
   ]
  },
  {
   "cell_type": "code",
   "execution_count": null,
   "id": "11605829-aa6e-46dd-b787-78ce609e3e7e",
   "metadata": {},
   "outputs": [
    {
     "name": "stdout",
     "output_type": "stream",
     "text": [
      "22/08/16 23:36:53 WARN Utils: Your hostname, Sens-MacBook-Air.local resolves to a loopback address: 127.0.0.1; using 192.168.0.11 instead (on interface en0)\n",
      "22/08/16 23:36:53 WARN Utils: Set SPARK_LOCAL_IP if you need to bind to another address\n"
     ]
    },
    {
     "name": "stderr",
     "output_type": "stream",
     "text": [
      "Setting default log level to \"WARN\".\n",
      "To adjust logging level use sc.setLogLevel(newLevel). For SparkR, use setLogLevel(newLevel).\n"
     ]
    },
    {
     "name": "stdout",
     "output_type": "stream",
     "text": [
      "22/08/16 23:36:54 WARN NativeCodeLoader: Unable to load native-hadoop library for your platform... using builtin-java classes where applicable\n"
     ]
    }
   ],
   "source": [
    "spark = (\n",
    "    SparkSession.builder.appName(\"MAST30034 Tutorial 1\")\n",
    "    .config(\"spark.sql.repl.eagerEval.enabled\", True) \n",
    "    .config(\"spark.sql.parquet.cacheMetadata\", \"true\")\n",
    "    .config(\"spark.driver.memory\", \"8g\")\n",
    "    .config(\"spark.sql.parquet.enableVectorizedReader\", False)\n",
    "    .config(\"spark.sql.session.timeZone\", \"Etc/UTC\")\n",
    "    .getOrCreate()\n",
    ")"
   ]
  },
  {
   "cell_type": "code",
   "execution_count": null,
   "id": "fc91c0fe",
   "metadata": {},
   "outputs": [],
   "source": [
    "sdf = spark.read.parquet('../data/curated/combined_data')"
   ]
  },
  {
   "cell_type": "code",
   "execution_count": null,
   "id": "adbd7d30",
   "metadata": {},
   "outputs": [],
   "source": [
    "sdf = sdf.groupBy('Date', 'Hour', 'PU_Location_ID').agg(avg(\"Temperature_C\").alias(\"Temperature_C\"), \\\n",
    "                                                           avg(\"Humidity_%\").alias(\"Humidity_%\"), \\\n",
    "                                                           avg(\"Speed_kmh\").alias(\"Speed_kmh\"), \\\n",
    "                                                           avg(\"Precip_Rate_mm\").alias(\"Precip_rate_mm\"), \\\n",
    "                                                           avg(\"Driver_pay\").alias(\"Avg_driver_pay\"), \\\n",
    "                                                           avg(\"Day_of_week\").alias(\"Day_of_week\"), \\\n",
    "                                                           count('Temperature_C').alias(\"Num_trips\"))"
   ]
  },
  {
   "cell_type": "code",
   "execution_count": null,
   "id": "084f5864",
   "metadata": {},
   "outputs": [],
   "source": [
    "sdf = sdf.orderBy('Date', 'PU_Location_ID', 'Hour')"
   ]
  },
  {
   "cell_type": "code",
   "execution_count": null,
   "id": "a2b1aa91",
   "metadata": {},
   "outputs": [],
   "source": [
    "feature_list = []\n",
    "for col in sdf.columns:\n",
    "    if col == 'Date' or col == 'Avg_driver_pay' or col == 'Num_trips':\n",
    "        continue\n",
    "    else:\n",
    "        feature_list.append(col)\n",
    "\n",
    "assembler = VectorAssembler(inputCols=feature_list, outputCol=\"features\")"
   ]
  },
  {
   "cell_type": "code",
   "execution_count": null,
   "id": "e474931f",
   "metadata": {},
   "outputs": [],
   "source": [
    "model_sdf = assembler.transform(sdf.dropna('any'))"
   ]
  },
  {
   "cell_type": "code",
   "execution_count": null,
   "id": "8fa696a7",
   "metadata": {},
   "outputs": [],
   "source": [
    "featureIndexer =\\\n",
    "    VectorIndexer(inputCol=\"features\", outputCol=\"indexedFeatures\", maxCategories=270).fit(model_sdf)"
   ]
  },
  {
   "cell_type": "markdown",
   "id": "001a4e9f",
   "metadata": {},
   "source": [
    "Split after ordering to get the same split as neural network models"
   ]
  },
  {
   "cell_type": "code",
   "execution_count": null,
   "id": "a6243cbd",
   "metadata": {},
   "outputs": [],
   "source": [
    "model_sdf = model_sdf.withColumn(\"rank\", percent_rank().over(Window.partitionBy().orderBy('Date', 'PU_Location_ID', 'Hour')))\n",
    "train_sdf = model_sdf.where(\"rank <= .8\").drop(\"rank\")\n",
    "test_sdf = model_sdf.where(\"rank > .8\").drop(\"rank\")"
   ]
  },
  {
   "cell_type": "code",
   "execution_count": null,
   "id": "f664742a",
   "metadata": {},
   "outputs": [],
   "source": [
    "rf = RandomForestRegressor(featuresCol=\"indexedFeatures\", labelCol='Avg_driver_pay', maxBins = 270)\n",
    "\n",
    "pipeline = Pipeline(stages=[featureIndexer, rf])"
   ]
  },
  {
   "cell_type": "code",
   "execution_count": null,
   "id": "9cb6f815",
   "metadata": {},
   "outputs": [],
   "source": [
    "model = pipeline.fit(train_sdf)"
   ]
  },
  {
   "cell_type": "code",
   "execution_count": null,
   "id": "045adbef",
   "metadata": {},
   "outputs": [],
   "source": [
    "# Make predictions.\n",
    "predictions = model.transform(test_sdf).select('prediction').toPandas()"
   ]
  },
  {
   "cell_type": "code",
   "execution_count": null,
   "id": "402c7ffc",
   "metadata": {},
   "outputs": [],
   "source": [
    "y_test = test_sdf.select('Avg_driver_pay').toPandas()"
   ]
  },
  {
   "cell_type": "code",
   "execution_count": null,
   "id": "e35fc62f",
   "metadata": {},
   "outputs": [],
   "source": [
    "errors = np.array(np.array(predictions) - y_test)\n",
    "squared_errors = errors**2\n",
    "\n",
    "mean_squared_error = squared_errors.mean()\n",
    "\n",
    "print(f'MSE: {mean_squared_error}')"
   ]
  },
  {
   "cell_type": "code",
   "execution_count": null,
   "id": "1646c008",
   "metadata": {
    "scrolled": true
   },
   "outputs": [],
   "source": [
    "tot_sum_squares = (np.array(y_test - y_test.mean())**2).sum()\n",
    "r2 = 1 - (squared_errors.sum() / tot_sum_squares)\n",
    "print(f'Model R^2: {r2:.4f}')"
   ]
  },
  {
   "cell_type": "markdown",
   "id": "436777f8",
   "metadata": {},
   "source": [
    "<h3>Save predictions for further analysis<h3>"
   ]
  },
  {
   "cell_type": "code",
   "execution_count": null,
   "id": "8aef31cc",
   "metadata": {},
   "outputs": [],
   "source": [
    "pd.DataFrame(predictions).to_csv('../data/curated/model_data/avg_driver_pay_pred_rf.csv')"
   ]
  }
 ],
 "metadata": {
  "kernelspec": {
   "display_name": "Python 3 (ipykernel)",
   "language": "python",
   "name": "python3"
  },
  "language_info": {
   "codemirror_mode": {
    "name": "ipython",
    "version": 3
   },
   "file_extension": ".py",
   "mimetype": "text/x-python",
   "name": "python",
   "nbconvert_exporter": "python",
   "pygments_lexer": "ipython3",
   "version": "3.9.13"
  }
 },
 "nbformat": 4,
 "nbformat_minor": 5
}
