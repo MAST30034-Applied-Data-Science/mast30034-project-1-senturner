{
 "cells": [
  {
   "cell_type": "markdown",
   "id": "f27a189b-1ca9-4593-a483-addcc47e4dda",
   "metadata": {},
   "source": [
    "<h1>Analysis - Average Fare<h1>"
   ]
  },
  {
   "cell_type": "markdown",
   "id": "5090f7fa-da38-4a16-b661-5721399a1bb2",
   "metadata": {},
   "source": [
    "Setting up environment"
   ]
  },
  {
   "cell_type": "code",
   "execution_count": 4,
   "id": "5f762e16-7e46-4007-87ac-34a56a53b305",
   "metadata": {},
   "outputs": [],
   "source": [
    "from pyspark.sql import SparkSession\n",
    "import pandas as pd\n",
    "import geopandas as gpd\n",
    "import folium\n",
    "from pyspark.sql import functions as F\n",
    "#import matplotlib.pyplot as plt\n",
    "from statsmodels.formula.api import ols\n",
    "import statsmodels.api as sm\n",
    "from pingouin import ancova"
   ]
  },
  {
   "cell_type": "code",
   "execution_count": null,
   "id": "2f6550c9-0616-420e-8497-ae993b2b7a34",
   "metadata": {},
   "outputs": [],
   "source": [
    "spark = (\n",
    "    SparkSession.builder.appName(\"MAST30034 Tutorial 1\")\n",
    "    .config(\"spark.sql.repl.eagerEval.enabled\", True) \n",
    "    .config(\"spark.sql.parquet.cacheMetadata\", \"true\")\n",
    "    .config(\"spark.driver.memory\", \"8g\")\n",
    "    .config(\"spark.sql.parquet.enableVectorizedReader\", False)\n",
    "    .getOrCreate()\n",
    ")"
   ]
  },
  {
   "cell_type": "markdown",
   "id": "28a53384-7b18-43fb-9b3d-0dff31e76b9b",
   "metadata": {},
   "source": [
    "Read in the data"
   ]
  },
  {
   "cell_type": "code",
   "execution_count": null,
   "id": "17689caf-a7da-47ef-b168-c415580bdf78",
   "metadata": {},
   "outputs": [],
   "source": [
    "df = spark.read.parquet('../data/curated/combined_data')"
   ]
  },
  {
   "cell_type": "markdown",
   "id": "01421cb8-2539-4bf4-acce-7d28b2c38c69",
   "metadata": {},
   "source": [
    "<h3>Analysis of location vs average driver pay<h3>"
   ]
  },
  {
   "cell_type": "code",
   "execution_count": null,
   "id": "dae5417c-a6b2-4bf0-87e7-5f5f4313585c",
   "metadata": {},
   "outputs": [],
   "source": [
    "# Getting geodata\n",
    "\n",
    "zones = pd.read_csv(\"../data/curated/taxi_zones/taxi+_zone_lookup.csv\")\n",
    "sf = gpd.read_file(\"../data/curated/taxi_zones/taxi_zones.shp\")\n",
    "sf['geometry'] = sf['geometry'].to_crs(\"+proj=longlat +ellps=WGS84 +datum=WGS84 +no_defs\")\n",
    "gdf = gpd.GeoDataFrame(\n",
    "    pd.merge(zones, sf, on='LocationID', how='inner')\n",
    ")\n",
    "\n",
    "geoJSON = gdf[['LocationID', 'geometry']].drop_duplicates('LocationID').to_json()"
   ]
  },
  {
   "cell_type": "code",
   "execution_count": null,
   "id": "cdf60c4c-a768-42ed-a187-eb267ac06841",
   "metadata": {},
   "outputs": [],
   "source": [
    "# Aggregating data over location\n",
    "\n",
    "location_avgs = df.groupby('PU_Location_ID').avg('Driver_pay').withColumnRenamed('avg(Driver_pay)', 'Avg_Driver_Pay').toPandas()\n",
    "location_avgs = location_avgs \\\n",
    "    .merge(gdf[['LocationID', 'geometry']], left_on='PU_Location_ID', right_on='LocationID') \\\n",
    "    .drop('LocationID', axis=1)"
   ]
  },
  {
   "cell_type": "code",
   "execution_count": null,
   "id": "626d7887-2b61-466a-a2b3-f2e321172145",
   "metadata": {},
   "outputs": [],
   "source": [
    "m = folium.Map(location=[40.73, -73.74], tiles=\"Stamen Terrain\", zoom_start=10)\n",
    "\n",
    "c = folium.Choropleth(\n",
    "    geo_data=geoJSON, # geoJSON \n",
    "    name='choropleth', # name of plot\n",
    "    data=location_avgs, # data source\n",
    "    columns=['PU_Location_ID','Avg_Driver_Pay'], # the columns required\n",
    "    key_on='properties.LocationID', # this is from the geoJSON's properties\n",
    "    fill_color='YlOrRd', # color scheme\n",
    "    nan_fill_color='black',\n",
    "    legend_name='Average Trip Earnings USD$'\n",
    ")\n",
    "\n",
    "c.add_to(m)\n",
    "\n",
    "m"
   ]
  },
  {
   "cell_type": "markdown",
   "id": "0b5a3331-ea79-48e5-8307-e24a88292548",
   "metadata": {},
   "source": [
    "Clear correlation, airports particularly have larger prices (as expected). Also larger prices in areas around central park and broadway, busy areas."
   ]
  },
  {
   "cell_type": "code",
   "execution_count": 24,
   "id": "2ade7190-505c-40d8-ad88-502d34cbb535",
   "metadata": {},
   "outputs": [],
   "source": [
    "pdf = pd.read_parquet(\"../data/curated/combined_data_sample\")\n",
    "pdf = pdf.rename(columns={'Humidity_%': 'Humidity'})"
   ]
  },
  {
   "cell_type": "code",
   "execution_count": 16,
   "id": "9f619251-10aa-46d9-a0c6-988c6372ba61",
   "metadata": {},
   "outputs": [],
   "source": [
    "fit = ols(\n",
    "    formula=\"Driver_pay ~ C(PU_Location_ID)\",\n",
    "    data=pdf\n",
    ").fit()"
   ]
  },
  {
   "cell_type": "code",
   "execution_count": 17,
   "id": "5b034e2c-c7d5-47bf-a97e-c62665ed6332",
   "metadata": {},
   "outputs": [
    {
     "name": "stdout",
     "output_type": "stream",
     "text": [
      "                         sum_sq        df          F  PR(>F)\n",
      "C(PU_Location_ID)  1.935288e+06     257.0  57.978172     0.0\n",
      "Residual           1.404359e+07  108126.0        NaN     NaN\n"
     ]
    }
   ],
   "source": [
    "table = sm.stats.anova_lm(fit, typ=2)\n",
    "print(table)"
   ]
  },
  {
   "cell_type": "markdown",
   "id": "df7ca480-9dff-43fc-921e-ef66b09a356c",
   "metadata": {},
   "source": [
    "<h3>Analysis of time (day of week and hour) vs average driver pay<h3>"
   ]
  },
  {
   "cell_type": "markdown",
   "id": "9dbbe188-16b5-4d40-a62d-32e9d1264f60",
   "metadata": {},
   "source": [
    "Sub-sample one location for visualisation"
   ]
  },
  {
   "cell_type": "code",
   "execution_count": null,
   "id": "4abf7115-f0c2-4548-904e-0e33badd4fef",
   "metadata": {},
   "outputs": [],
   "source": [
    "time_visualisation_df = df.groupBy(\"PU_Location_ID\", \"Day_of_week\").avg(\"Driver_pay\").toPandas()"
   ]
  },
  {
   "cell_type": "code",
   "execution_count": null,
   "id": "e93a3b9b-6009-4537-9390-5b0dbf4f53fd",
   "metadata": {},
   "outputs": [],
   "source": [
    "time_visualisation_df.boxplot('avg(Driver_pay)', 'Day_of_week')"
   ]
  },
  {
   "cell_type": "code",
   "execution_count": null,
   "id": "8213d9b8-68f9-4d7c-915e-fd39ac22f44c",
   "metadata": {},
   "outputs": [],
   "source": [
    "time_visualisation_df = df.groupBy(\"PU_Location_ID\", \"Hour\").avg(\"Driver_pay\").toPandas()\n",
    "time_visualisation_df.boxplot('avg(Driver_pay)', 'Hour')"
   ]
  },
  {
   "cell_type": "code",
   "execution_count": 18,
   "id": "837f98a9-1666-443a-ba0d-ba61d2f0c494",
   "metadata": {},
   "outputs": [],
   "source": [
    "fit = ols(\n",
    "    formula=\"Driver_pay ~ C(Day_of_week) + C(Hour)\",\n",
    "    data=pdf\n",
    ").fit()"
   ]
  },
  {
   "cell_type": "code",
   "execution_count": 19,
   "id": "a76ed10f-d61c-4d83-b7bd-33c83116329b",
   "metadata": {},
   "outputs": [
    {
     "name": "stdout",
     "output_type": "stream",
     "text": [
      "                      sum_sq        df          F         PR(>F)\n",
      "C(Day_of_week)  1.078760e+04       6.0  12.282843   7.196653e-14\n",
      "C(Hour)         1.047404e+05      23.0  31.110828  7.112811e-136\n",
      "Residual        1.586060e+07  108354.0        NaN            NaN\n"
     ]
    }
   ],
   "source": [
    "table = sm.stats.anova_lm(fit, typ=2)\n",
    "print(table)"
   ]
  },
  {
   "cell_type": "markdown",
   "id": "42000a85-05d0-4896-aba6-5d0d9434805f",
   "metadata": {},
   "source": [
    "<h3>Analysis of weather vs average driver pay<h3>"
   ]
  },
  {
   "cell_type": "code",
   "execution_count": 25,
   "id": "357f51ad-cc9a-4abf-a664-f7d967d06749",
   "metadata": {},
   "outputs": [],
   "source": [
    "fit = ols(\n",
    "    formula=\"Driver_pay ~ Temperature_C + Speed_kmh + Precip_Rate_mm + Humidity + Pressure_hPa\",\n",
    "    data=pdf\n",
    ").fit()"
   ]
  },
  {
   "cell_type": "code",
   "execution_count": 26,
   "id": "dfe2916b-f098-4a34-9324-c792689fafd6",
   "metadata": {},
   "outputs": [
    {
     "name": "stdout",
     "output_type": "stream",
     "text": [
      "                      sum_sq        df          F        PR(>F)\n",
      "Temperature_C   1.156987e+04       1.0  78.556481  7.888584e-19\n",
      "Speed_kmh       5.039288e+00       1.0   0.034215  8.532496e-01\n",
      "Precip_Rate_mm  2.227802e+03       1.0  15.126208  1.006175e-04\n",
      "Humidity        8.828258e+02       1.0   5.994162  1.435487e-02\n",
      "Pressure_hPa    1.517085e+02       1.0   1.030062  3.101464e-01\n",
      "Residual        1.596201e+07  108378.0        NaN           NaN\n"
     ]
    }
   ],
   "source": [
    "table = sm.stats.anova_lm(fit, typ=2)\n",
    "print(table)"
   ]
  },
  {
   "cell_type": "code",
   "execution_count": 20,
   "id": "963d57c5-58ba-4b80-8337-c04cbdcb6aea",
   "metadata": {},
   "outputs": [
    {
     "data": {
      "text/html": [
       "<div>\n",
       "<style scoped>\n",
       "    .dataframe tbody tr th:only-of-type {\n",
       "        vertical-align: middle;\n",
       "    }\n",
       "\n",
       "    .dataframe tbody tr th {\n",
       "        vertical-align: top;\n",
       "    }\n",
       "\n",
       "    .dataframe thead th {\n",
       "        text-align: right;\n",
       "    }\n",
       "</style>\n",
       "<table border=\"1\" class=\"dataframe\">\n",
       "  <thead>\n",
       "    <tr style=\"text-align: right;\">\n",
       "      <th></th>\n",
       "      <th>Source</th>\n",
       "      <th>SS</th>\n",
       "      <th>DF</th>\n",
       "      <th>F</th>\n",
       "      <th>p-unc</th>\n",
       "      <th>np2</th>\n",
       "    </tr>\n",
       "  </thead>\n",
       "  <tbody>\n",
       "    <tr>\n",
       "      <th>0</th>\n",
       "      <td>PU_Location_ID</td>\n",
       "      <td>1.936975e+06</td>\n",
       "      <td>257</td>\n",
       "      <td>58.102765</td>\n",
       "      <td>0.000000e+00</td>\n",
       "      <td>0.121349</td>\n",
       "    </tr>\n",
       "    <tr>\n",
       "      <th>1</th>\n",
       "      <td>Temperature_C</td>\n",
       "      <td>1.140361e+04</td>\n",
       "      <td>1</td>\n",
       "      <td>87.912058</td>\n",
       "      <td>6.969159e-21</td>\n",
       "      <td>0.000812</td>\n",
       "    </tr>\n",
       "    <tr>\n",
       "      <th>2</th>\n",
       "      <td>Humidity_%</td>\n",
       "      <td>2.554035e+03</td>\n",
       "      <td>1</td>\n",
       "      <td>19.689411</td>\n",
       "      <td>9.119464e-06</td>\n",
       "      <td>0.000182</td>\n",
       "    </tr>\n",
       "    <tr>\n",
       "      <th>3</th>\n",
       "      <td>Speed_kmh</td>\n",
       "      <td>4.824573e+02</td>\n",
       "      <td>1</td>\n",
       "      <td>3.719331</td>\n",
       "      <td>5.378852e-02</td>\n",
       "      <td>0.000034</td>\n",
       "    </tr>\n",
       "    <tr>\n",
       "      <th>4</th>\n",
       "      <td>Precip_Rate_mm</td>\n",
       "      <td>2.118788e+03</td>\n",
       "      <td>1</td>\n",
       "      <td>16.334035</td>\n",
       "      <td>5.313831e-05</td>\n",
       "      <td>0.000151</td>\n",
       "    </tr>\n",
       "    <tr>\n",
       "      <th>5</th>\n",
       "      <td>Pressure_hPa</td>\n",
       "      <td>2.703826e+02</td>\n",
       "      <td>1</td>\n",
       "      <td>2.084418</td>\n",
       "      <td>1.488119e-01</td>\n",
       "      <td>0.000019</td>\n",
       "    </tr>\n",
       "    <tr>\n",
       "      <th>6</th>\n",
       "      <td>Residual</td>\n",
       "      <td>1.402504e+07</td>\n",
       "      <td>108121</td>\n",
       "      <td>NaN</td>\n",
       "      <td>NaN</td>\n",
       "      <td>NaN</td>\n",
       "    </tr>\n",
       "  </tbody>\n",
       "</table>\n",
       "</div>"
      ],
      "text/plain": [
       "           Source            SS      DF          F         p-unc       np2\n",
       "0  PU_Location_ID  1.936975e+06     257  58.102765  0.000000e+00  0.121349\n",
       "1   Temperature_C  1.140361e+04       1  87.912058  6.969159e-21  0.000812\n",
       "2      Humidity_%  2.554035e+03       1  19.689411  9.119464e-06  0.000182\n",
       "3       Speed_kmh  4.824573e+02       1   3.719331  5.378852e-02  0.000034\n",
       "4  Precip_Rate_mm  2.118788e+03       1  16.334035  5.313831e-05  0.000151\n",
       "5    Pressure_hPa  2.703826e+02       1   2.084418  1.488119e-01  0.000019\n",
       "6        Residual  1.402504e+07  108121        NaN           NaN       NaN"
      ]
     },
     "execution_count": 20,
     "metadata": {},
     "output_type": "execute_result"
    }
   ],
   "source": [
    "ancova(data=pdf, dv='Driver_pay', covar=['Temperature_C', 'Humidity_%', 'Speed_kmh', 'Precip_Rate_mm', 'Pressure_hPa'], between='PU_Location_ID')"
   ]
  },
  {
   "cell_type": "markdown",
   "id": "c5bbc35c-bc5f-424f-9c47-4351ba66d970",
   "metadata": {},
   "source": [
    "Pressure unecessary"
   ]
  }
 ],
 "metadata": {
  "kernelspec": {
   "display_name": "Python 3 (ipykernel)",
   "language": "python",
   "name": "python3"
  },
  "language_info": {
   "codemirror_mode": {
    "name": "ipython",
    "version": 3
   },
   "file_extension": ".py",
   "mimetype": "text/x-python",
   "name": "python",
   "nbconvert_exporter": "python",
   "pygments_lexer": "ipython3",
   "version": "3.9.7"
  }
 },
 "nbformat": 4,
 "nbformat_minor": 5
}
