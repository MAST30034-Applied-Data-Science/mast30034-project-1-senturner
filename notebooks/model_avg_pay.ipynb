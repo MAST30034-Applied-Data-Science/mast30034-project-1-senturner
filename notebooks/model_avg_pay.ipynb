{
 "cells": [
  {
   "cell_type": "markdown",
   "id": "15bc44ce-5b2e-444d-9317-e6455b2ae308",
   "metadata": {},
   "source": [
    "<h1>Model - Average Driver Pay<h1>"
   ]
  },
  {
   "cell_type": "markdown",
   "id": "18323d34",
   "metadata": {},
   "source": [
    "This notebook is modelled off the Neural Network notebook offered by University of Melbourne tutor Lucas Fern\n",
    "https://github.com/lucas-fern/MAST30034-wk4-NNs"
   ]
  },
  {
   "cell_type": "code",
   "execution_count": 1,
   "id": "1c9e2a05-ce2b-4bce-97e4-3f405398b481",
   "metadata": {},
   "outputs": [],
   "source": [
    "from tensorflow import keras\n",
    "from tensorflow.keras.layers import Dense, Normalization"
   ]
  },
  {
   "cell_type": "code",
   "execution_count": 2,
   "id": "af2da787-1c5e-4ed3-acc8-cfb4b62aaedd",
   "metadata": {},
   "outputs": [],
   "source": [
    "from sklearn.model_selection import train_test_split\n",
    "import pandas as pd\n",
    "from pyspark.sql import SparkSession\n",
    "from pyspark.sql import functions as F\n",
    "from pyspark.sql.functions import sum,avg,max,min,mean,count\n",
    "import numpy as np"
   ]
  },
  {
   "cell_type": "code",
   "execution_count": 3,
   "id": "5a828896",
   "metadata": {},
   "outputs": [
    {
     "name": "stdout",
     "output_type": "stream",
     "text": [
      "22/08/16 16:38:14 WARN Utils: Your hostname, Sens-MacBook-Air.local resolves to a loopback address: 127.0.0.1; using 192.168.0.11 instead (on interface en0)\n",
      "22/08/16 16:38:14 WARN Utils: Set SPARK_LOCAL_IP if you need to bind to another address\n"
     ]
    },
    {
     "name": "stderr",
     "output_type": "stream",
     "text": [
      "Setting default log level to \"WARN\".\n",
      "To adjust logging level use sc.setLogLevel(newLevel). For SparkR, use setLogLevel(newLevel).\n"
     ]
    },
    {
     "name": "stdout",
     "output_type": "stream",
     "text": [
      "22/08/16 16:38:15 WARN NativeCodeLoader: Unable to load native-hadoop library for your platform... using builtin-java classes where applicable\n"
     ]
    }
   ],
   "source": [
    "spark = (\n",
    "    SparkSession.builder.appName(\"MAST30034 Tutorial 1\")\n",
    "    .config(\"spark.sql.repl.eagerEval.enabled\", True) \n",
    "    .config(\"spark.sql.parquet.cacheMetadata\", \"true\")\n",
    "    .config(\"spark.driver.memory\", \"8g\")\n",
    "    .config(\"spark.sql.parquet.enableVectorizedReader\", False)\n",
    "    .config(\"spark.sql.session.timeZone\", \"Etc/UTC\")\n",
    "    .getOrCreate()\n",
    ")"
   ]
  },
  {
   "cell_type": "code",
   "execution_count": 4,
   "id": "317cfbb1",
   "metadata": {
    "scrolled": true
   },
   "outputs": [
    {
     "name": "stderr",
     "output_type": "stream",
     "text": [
      "                                                                                \r"
     ]
    }
   ],
   "source": [
    "sdf = spark.read.parquet('../data/curated/combined_data')"
   ]
  },
  {
   "cell_type": "code",
   "execution_count": 5,
   "id": "4eec506f",
   "metadata": {},
   "outputs": [
    {
     "name": "stderr",
     "output_type": "stream",
     "text": [
      "                                                                                \r"
     ]
    }
   ],
   "source": [
    "df = sdf.groupby('Date', 'Hour', 'PU_Location_ID').agg(avg(\"Temperature_C\").alias(\"Temperature_C\"), \\\n",
    "                                                           avg(\"Humidity_%\").alias(\"Humidity_%\"), \\\n",
    "                                                           avg(\"Speed_kmh\").alias(\"Speed_kmh\"), \\\n",
    "                                                           avg(\"Precip_Rate_mm\").alias(\"Precip_rate_mm\"), \\\n",
    "                                                           avg(\"Driver_pay\").alias(\"Avg_driver_pay\"), \\\n",
    "                                                           avg(\"Day_of_week\").alias(\"Day_of_week\"), \\\n",
    "                                                           count('Temperature_C').alias(\"Num_trips\")).toPandas()"
   ]
  },
  {
   "cell_type": "code",
   "execution_count": 8,
   "id": "feab900a",
   "metadata": {},
   "outputs": [
    {
     "data": {
      "text/html": [
       "<div>\n",
       "<style scoped>\n",
       "    .dataframe tbody tr th:only-of-type {\n",
       "        vertical-align: middle;\n",
       "    }\n",
       "\n",
       "    .dataframe tbody tr th {\n",
       "        vertical-align: top;\n",
       "    }\n",
       "\n",
       "    .dataframe thead th {\n",
       "        text-align: right;\n",
       "    }\n",
       "</style>\n",
       "<table border=\"1\" class=\"dataframe\">\n",
       "  <thead>\n",
       "    <tr style=\"text-align: right;\">\n",
       "      <th></th>\n",
       "      <th>Date</th>\n",
       "      <th>Hour</th>\n",
       "      <th>PU_Location_ID</th>\n",
       "      <th>Temperature_C</th>\n",
       "      <th>Humidity_%</th>\n",
       "      <th>Speed_kmh</th>\n",
       "      <th>Precip_rate_mm</th>\n",
       "      <th>Avg_driver_pay</th>\n",
       "      <th>Day_of_week</th>\n",
       "      <th>Num_trips</th>\n",
       "    </tr>\n",
       "  </thead>\n",
       "  <tbody>\n",
       "    <tr>\n",
       "      <th>0</th>\n",
       "      <td>2019-03-01</td>\n",
       "      <td>0</td>\n",
       "      <td>175</td>\n",
       "      <td>-1.11</td>\n",
       "      <td>47.0</td>\n",
       "      <td>15.29</td>\n",
       "      <td>0.0</td>\n",
       "      <td>15.38</td>\n",
       "      <td>6.0</td>\n",
       "      <td>8</td>\n",
       "    </tr>\n",
       "  </tbody>\n",
       "</table>\n",
       "</div>"
      ],
      "text/plain": [
       "         Date  Hour  PU_Location_ID  Temperature_C  Humidity_%  Speed_kmh  \\\n",
       "0  2019-03-01     0             175          -1.11        47.0      15.29   \n",
       "\n",
       "   Precip_rate_mm  Avg_driver_pay  Day_of_week  Num_trips  \n",
       "0             0.0           15.38          6.0          8  "
      ]
     },
     "execution_count": 8,
     "metadata": {},
     "output_type": "execute_result"
    }
   ],
   "source": [
    "df.head(1)"
   ]
  },
  {
   "cell_type": "code",
   "execution_count": 9,
   "id": "a043b7d3",
   "metadata": {},
   "outputs": [
    {
     "data": {
      "text/html": [
       "<div>\n",
       "<style scoped>\n",
       "    .dataframe tbody tr th:only-of-type {\n",
       "        vertical-align: middle;\n",
       "    }\n",
       "\n",
       "    .dataframe tbody tr th {\n",
       "        vertical-align: top;\n",
       "    }\n",
       "\n",
       "    .dataframe thead th {\n",
       "        text-align: right;\n",
       "    }\n",
       "</style>\n",
       "<table border=\"1\" class=\"dataframe\">\n",
       "  <thead>\n",
       "    <tr style=\"text-align: right;\">\n",
       "      <th></th>\n",
       "      <th>Date</th>\n",
       "      <th>Hour</th>\n",
       "      <th>PU_Location_ID</th>\n",
       "      <th>Temperature_C</th>\n",
       "      <th>Humidity_%</th>\n",
       "      <th>Speed_kmh</th>\n",
       "      <th>Precip_rate_mm</th>\n",
       "      <th>Avg_driver_pay</th>\n",
       "      <th>Day_of_week</th>\n",
       "      <th>Num_trips</th>\n",
       "    </tr>\n",
       "  </thead>\n",
       "  <tbody>\n",
       "    <tr>\n",
       "      <th>728877</th>\n",
       "      <td>2019-02-01</td>\n",
       "      <td>17</td>\n",
       "      <td>42</td>\n",
       "      <td>-5.78</td>\n",
       "      <td>36.0</td>\n",
       "      <td>4.83</td>\n",
       "      <td>0.0</td>\n",
       "      <td>12.210576</td>\n",
       "      <td>6.0</td>\n",
       "      <td>330</td>\n",
       "    </tr>\n",
       "    <tr>\n",
       "      <th>733687</th>\n",
       "      <td>2019-02-01</td>\n",
       "      <td>9</td>\n",
       "      <td>210</td>\n",
       "      <td>-10.50</td>\n",
       "      <td>39.0</td>\n",
       "      <td>5.95</td>\n",
       "      <td>0.0</td>\n",
       "      <td>9.854417</td>\n",
       "      <td>6.0</td>\n",
       "      <td>120</td>\n",
       "    </tr>\n",
       "    <tr>\n",
       "      <th>733686</th>\n",
       "      <td>2019-02-01</td>\n",
       "      <td>9</td>\n",
       "      <td>263</td>\n",
       "      <td>-10.50</td>\n",
       "      <td>39.0</td>\n",
       "      <td>5.95</td>\n",
       "      <td>0.0</td>\n",
       "      <td>14.598214</td>\n",
       "      <td>6.0</td>\n",
       "      <td>280</td>\n",
       "    </tr>\n",
       "    <tr>\n",
       "      <th>733685</th>\n",
       "      <td>2019-02-01</td>\n",
       "      <td>7</td>\n",
       "      <td>256</td>\n",
       "      <td>-11.50</td>\n",
       "      <td>39.0</td>\n",
       "      <td>11.75</td>\n",
       "      <td>0.0</td>\n",
       "      <td>19.386034</td>\n",
       "      <td>6.0</td>\n",
       "      <td>174</td>\n",
       "    </tr>\n",
       "    <tr>\n",
       "      <th>1008136</th>\n",
       "      <td>2019-02-01</td>\n",
       "      <td>5</td>\n",
       "      <td>4</td>\n",
       "      <td>-10.89</td>\n",
       "      <td>39.0</td>\n",
       "      <td>13.35</td>\n",
       "      <td>0.0</td>\n",
       "      <td>16.718302</td>\n",
       "      <td>6.0</td>\n",
       "      <td>53</td>\n",
       "    </tr>\n",
       "  </tbody>\n",
       "</table>\n",
       "</div>"
      ],
      "text/plain": [
       "               Date  Hour  PU_Location_ID  Temperature_C  Humidity_%  \\\n",
       "728877   2019-02-01    17              42          -5.78        36.0   \n",
       "733687   2019-02-01     9             210         -10.50        39.0   \n",
       "733686   2019-02-01     9             263         -10.50        39.0   \n",
       "733685   2019-02-01     7             256         -11.50        39.0   \n",
       "1008136  2019-02-01     5               4         -10.89        39.0   \n",
       "\n",
       "         Speed_kmh  Precip_rate_mm  Avg_driver_pay  Day_of_week  Num_trips  \n",
       "728877        4.83             0.0       12.210576          6.0        330  \n",
       "733687        5.95             0.0        9.854417          6.0        120  \n",
       "733686        5.95             0.0       14.598214          6.0        280  \n",
       "733685       11.75             0.0       19.386034          6.0        174  \n",
       "1008136      13.35             0.0       16.718302          6.0         53  "
      ]
     },
     "execution_count": 9,
     "metadata": {},
     "output_type": "execute_result"
    }
   ],
   "source": [
    "df = df.sort_values('Date', axis = 0)\n",
    "df.head(5)"
   ]
  },
  {
   "cell_type": "code",
   "execution_count": 10,
   "id": "70c21a2e",
   "metadata": {},
   "outputs": [],
   "source": [
    "df = df.drop('Date', axis = 1)"
   ]
  },
  {
   "cell_type": "code",
   "execution_count": 11,
   "id": "1d3d8827",
   "metadata": {
    "scrolled": false
   },
   "outputs": [],
   "source": [
    "df = pd.get_dummies(df, columns=['Hour', 'PU_Location_ID', 'Day_of_week'])"
   ]
  },
  {
   "cell_type": "markdown",
   "id": "113442e0",
   "metadata": {},
   "source": [
    "Make sure that model will be testing predictions on future dates by setting shuffle to false"
   ]
  },
  {
   "cell_type": "code",
   "execution_count": 22,
   "id": "295c2727",
   "metadata": {},
   "outputs": [],
   "source": [
    "TARGET_COLS = ['Avg_driver_pay']\n",
    "\n",
    "train, test = train_test_split(df, train_size=0.8, shuffle = False)\n",
    "\n",
    "X_train, y_train = train.drop(TARGET_COLS, axis=1).drop('Num_trips', axis=1), train[TARGET_COLS]\n",
    "X_test, y_test = test.drop(TARGET_COLS, axis=1).drop('Num_trips', axis=1), test[TARGET_COLS]"
   ]
  },
  {
   "cell_type": "code",
   "execution_count": 23,
   "id": "b7ea58df",
   "metadata": {
    "scrolled": true
   },
   "outputs": [
    {
     "name": "stderr",
     "output_type": "stream",
     "text": [
      "2022-08-16 18:03:33.888614: I tensorflow/core/grappler/optimizers/custom_graph_optimizer_registry.cc:113] Plugin optimizer for device_type GPU is enabled.\n",
      "2022-08-16 18:03:33.908803: I tensorflow/core/grappler/optimizers/custom_graph_optimizer_registry.cc:113] Plugin optimizer for device_type GPU is enabled.\n"
     ]
    }
   ],
   "source": [
    "norm_layer = Normalization()\n",
    "norm_layer.adapt(X_train)"
   ]
  },
  {
   "cell_type": "code",
   "execution_count": 26,
   "id": "1e98df83",
   "metadata": {},
   "outputs": [],
   "source": [
    "model = keras.Sequential(\n",
    "    [   \n",
    "        norm_layer,\n",
    "        Dense(10, activation='relu'),\n",
    "        Dense(1, activation='relu')\n",
    "    ]\n",
    ")"
   ]
  },
  {
   "cell_type": "code",
   "execution_count": 27,
   "id": "87f191d3",
   "metadata": {},
   "outputs": [],
   "source": [
    "model.compile(\n",
    "    optimizer='adam',\n",
    "    loss='MSE'\n",
    ")"
   ]
  },
  {
   "cell_type": "markdown",
   "id": "d70360dd",
   "metadata": {},
   "source": [
    "8 epochs chosen experimentally because this is level where validation loss starts to level out"
   ]
  },
  {
   "cell_type": "code",
   "execution_count": 29,
   "id": "dd5a9f34",
   "metadata": {},
   "outputs": [
    {
     "name": "stdout",
     "output_type": "stream",
     "text": [
      "Epoch 1/8\n",
      "81606/81606 [==============================] - ETA: 0s - loss: 13.5164"
     ]
    },
    {
     "name": "stderr",
     "output_type": "stream",
     "text": [
      "2022-08-16 18:13:11.218231: I tensorflow/core/grappler/optimizers/custom_graph_optimizer_registry.cc:113] Plugin optimizer for device_type GPU is enabled.\n"
     ]
    },
    {
     "name": "stdout",
     "output_type": "stream",
     "text": [
      "81606/81606 [==============================] - 363s 4ms/step - loss: 13.5164 - val_loss: 10.7629\n",
      "Epoch 2/8\n",
      "81606/81606 [==============================] - 361s 4ms/step - loss: 13.0173 - val_loss: 10.7994\n",
      "Epoch 3/8\n",
      "81606/81606 [==============================] - 362s 4ms/step - loss: 12.7904 - val_loss: 10.4236\n",
      "Epoch 4/8\n",
      "81606/81606 [==============================] - 361s 4ms/step - loss: 12.5140 - val_loss: 10.1190\n",
      "Epoch 5/8\n",
      "81606/81606 [==============================] - 361s 4ms/step - loss: 12.3817 - val_loss: 9.9785\n",
      "Epoch 6/8\n",
      "81606/81606 [==============================] - 364s 4ms/step - loss: 12.3218 - val_loss: 10.1366\n",
      "Epoch 7/8\n",
      "81606/81606 [==============================] - 363s 4ms/step - loss: 12.2615 - val_loss: 9.9495\n",
      "Epoch 8/8\n",
      "81606/81606 [==============================] - 358s 4ms/step - loss: 12.1783 - val_loss: 10.2112\n"
     ]
    }
   ],
   "source": [
    "history = model.fit(\n",
    "    x=X_train,\n",
    "    y=y_train,\n",
    "    batch_size=16,\n",
    "    validation_split=0.25,\n",
    "    epochs=8\n",
    ")"
   ]
  },
  {
   "cell_type": "code",
   "execution_count": 38,
   "id": "297a910b",
   "metadata": {},
   "outputs": [
    {
     "name": "stdout",
     "output_type": "stream",
     "text": [
      "1/1 [==============================] - 0s 25ms/step\n"
     ]
    },
    {
     "data": {
      "text/html": [
       "<div>\n",
       "<style scoped>\n",
       "    .dataframe tbody tr th:only-of-type {\n",
       "        vertical-align: middle;\n",
       "    }\n",
       "\n",
       "    .dataframe tbody tr th {\n",
       "        vertical-align: top;\n",
       "    }\n",
       "\n",
       "    .dataframe thead th {\n",
       "        text-align: right;\n",
       "    }\n",
       "</style>\n",
       "<table border=\"1\" class=\"dataframe\">\n",
       "  <thead>\n",
       "    <tr style=\"text-align: right;\">\n",
       "      <th></th>\n",
       "      <th>Avg_driver_pay</th>\n",
       "      <th>prediction_avg_pay</th>\n",
       "    </tr>\n",
       "  </thead>\n",
       "  <tbody>\n",
       "    <tr>\n",
       "      <th>869526</th>\n",
       "      <td>35.166953</td>\n",
       "      <td>31.579432</td>\n",
       "    </tr>\n",
       "    <tr>\n",
       "      <th>869527</th>\n",
       "      <td>14.758911</td>\n",
       "      <td>15.270363</td>\n",
       "    </tr>\n",
       "    <tr>\n",
       "      <th>869528</th>\n",
       "      <td>23.911753</td>\n",
       "      <td>23.667017</td>\n",
       "    </tr>\n",
       "    <tr>\n",
       "      <th>869529</th>\n",
       "      <td>18.709767</td>\n",
       "      <td>16.604868</td>\n",
       "    </tr>\n",
       "    <tr>\n",
       "      <th>869530</th>\n",
       "      <td>13.225797</td>\n",
       "      <td>12.806939</td>\n",
       "    </tr>\n",
       "    <tr>\n",
       "      <th>869531</th>\n",
       "      <td>21.242042</td>\n",
       "      <td>21.144405</td>\n",
       "    </tr>\n",
       "    <tr>\n",
       "      <th>869532</th>\n",
       "      <td>14.571613</td>\n",
       "      <td>17.744602</td>\n",
       "    </tr>\n",
       "    <tr>\n",
       "      <th>869533</th>\n",
       "      <td>11.913577</td>\n",
       "      <td>11.944517</td>\n",
       "    </tr>\n",
       "    <tr>\n",
       "      <th>869534</th>\n",
       "      <td>11.773154</td>\n",
       "      <td>11.583035</td>\n",
       "    </tr>\n",
       "    <tr>\n",
       "      <th>869535</th>\n",
       "      <td>17.201562</td>\n",
       "      <td>17.291683</td>\n",
       "    </tr>\n",
       "  </tbody>\n",
       "</table>\n",
       "</div>"
      ],
      "text/plain": [
       "        Avg_driver_pay  prediction_avg_pay\n",
       "869526       35.166953           31.579432\n",
       "869527       14.758911           15.270363\n",
       "869528       23.911753           23.667017\n",
       "869529       18.709767           16.604868\n",
       "869530       13.225797           12.806939\n",
       "869531       21.242042           21.144405\n",
       "869532       14.571613           17.744602\n",
       "869533       11.913577           11.944517\n",
       "869534       11.773154           11.583035\n",
       "869535       17.201562           17.291683"
      ]
     },
     "execution_count": 38,
     "metadata": {},
     "output_type": "execute_result"
    }
   ],
   "source": [
    "comparison = y_test.iloc[:10].copy()\n",
    "comparison.loc[:, 'prediction_avg_pay'] = model.predict(X_test.head(10))\n",
    "comparison"
   ]
  },
  {
   "cell_type": "code",
   "execution_count": 19,
   "id": "3f45d8eb",
   "metadata": {},
   "outputs": [
    {
     "name": "stdout",
     "output_type": "stream",
     "text": [
      "1/1 [==============================] - 0s 74ms/step\n"
     ]
    },
    {
     "name": "stderr",
     "output_type": "stream",
     "text": [
      "2022-08-16 17:47:18.600948: I tensorflow/core/grappler/optimizers/custom_graph_optimizer_registry.cc:113] Plugin optimizer for device_type GPU is enabled.\n"
     ]
    },
    {
     "data": {
      "text/html": [
       "<div>\n",
       "<style scoped>\n",
       "    .dataframe tbody tr th:only-of-type {\n",
       "        vertical-align: middle;\n",
       "    }\n",
       "\n",
       "    .dataframe tbody tr th {\n",
       "        vertical-align: top;\n",
       "    }\n",
       "\n",
       "    .dataframe thead th {\n",
       "        text-align: right;\n",
       "    }\n",
       "</style>\n",
       "<table border=\"1\" class=\"dataframe\">\n",
       "  <thead>\n",
       "    <tr style=\"text-align: right;\">\n",
       "      <th></th>\n",
       "      <th>Avg_driver_pay</th>\n",
       "      <th>Num_trips</th>\n",
       "      <th>prediction_avg_pay</th>\n",
       "      <th>prediction_num_trips</th>\n",
       "    </tr>\n",
       "  </thead>\n",
       "  <tbody>\n",
       "    <tr>\n",
       "      <th>869526</th>\n",
       "      <td>35.166953</td>\n",
       "      <td>489</td>\n",
       "      <td>17.625992</td>\n",
       "      <td>477.070068</td>\n",
       "    </tr>\n",
       "    <tr>\n",
       "      <th>869527</th>\n",
       "      <td>14.758911</td>\n",
       "      <td>257</td>\n",
       "      <td>15.374159</td>\n",
       "      <td>245.635468</td>\n",
       "    </tr>\n",
       "    <tr>\n",
       "      <th>869528</th>\n",
       "      <td>23.911753</td>\n",
       "      <td>154</td>\n",
       "      <td>16.240574</td>\n",
       "      <td>159.312958</td>\n",
       "    </tr>\n",
       "    <tr>\n",
       "      <th>869529</th>\n",
       "      <td>18.709767</td>\n",
       "      <td>172</td>\n",
       "      <td>15.935345</td>\n",
       "      <td>175.150269</td>\n",
       "    </tr>\n",
       "    <tr>\n",
       "      <th>869530</th>\n",
       "      <td>13.225797</td>\n",
       "      <td>69</td>\n",
       "      <td>15.106107</td>\n",
       "      <td>41.740917</td>\n",
       "    </tr>\n",
       "  </tbody>\n",
       "</table>\n",
       "</div>"
      ],
      "text/plain": [
       "        Avg_driver_pay  Num_trips  prediction_avg_pay  prediction_num_trips\n",
       "869526       35.166953        489           17.625992            477.070068\n",
       "869527       14.758911        257           15.374159            245.635468\n",
       "869528       23.911753        154           16.240574            159.312958\n",
       "869529       18.709767        172           15.935345            175.150269\n",
       "869530       13.225797         69           15.106107             41.740917"
      ]
     },
     "execution_count": 19,
     "metadata": {},
     "output_type": "execute_result"
    }
   ],
   "source": [
    "comparison = y_test.iloc[:5].copy()\n",
    "comparison.loc[:, ['prediction_avg_pay','prediction_num_trips']] = model.predict(X_test.head())\n",
    "comparison"
   ]
  },
  {
   "cell_type": "code",
   "execution_count": 35,
   "id": "7d3c2781",
   "metadata": {},
   "outputs": [
    {
     "name": "stdout",
     "output_type": "stream",
     "text": [
      "13601/13601 [==============================] - 21s 2ms/step\n",
      "MSE: 10.988935909237371\n"
     ]
    }
   ],
   "source": [
    "predictions = model.predict(X_test)\n",
    "errors = np.array(predictions - y_test)\n",
    "squared_errors = errors**2\n",
    "mean_squared_error = squared_errors.mean()\n",
    "\n",
    "print(f'MSE: {mean_squared_error}')"
   ]
  },
  {
   "cell_type": "code",
   "execution_count": 36,
   "id": "e2f4e3e7",
   "metadata": {},
   "outputs": [
    {
     "name": "stdout",
     "output_type": "stream",
     "text": [
      "Model R^2: 0.4530\n"
     ]
    }
   ],
   "source": [
    "tot_sum_squares = (np.array(y_test - y_test.mean())**2).sum()\n",
    "r2 = 1 - (squared_errors.sum() / tot_sum_squares)\n",
    "print(f'Model R^2: {r2:.4f}')"
   ]
  }
 ],
 "metadata": {
  "kernelspec": {
   "display_name": "Python 3 (ipykernel)",
   "language": "python",
   "name": "python3"
  },
  "language_info": {
   "codemirror_mode": {
    "name": "ipython",
    "version": 3
   },
   "file_extension": ".py",
   "mimetype": "text/x-python",
   "name": "python",
   "nbconvert_exporter": "python",
   "pygments_lexer": "ipython3",
   "version": "3.9.13"
  }
 },
 "nbformat": 4,
 "nbformat_minor": 5
}
