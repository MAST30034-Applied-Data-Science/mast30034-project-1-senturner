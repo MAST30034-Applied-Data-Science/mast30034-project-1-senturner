{
 "cells": [
  {
   "cell_type": "markdown",
   "id": "15bc44ce-5b2e-444d-9317-e6455b2ae308",
   "metadata": {},
   "source": [
    "<h1>Model - Average Driver Pay<h1>"
   ]
  },
  {
   "cell_type": "code",
   "execution_count": 2,
   "id": "38ead011-927c-40d5-884d-a9218217fcf1",
   "metadata": {},
   "outputs": [],
   "source": [
    "!python3 -m venv ~/tensorflow-metal"
   ]
  },
  {
   "cell_type": "code",
   "execution_count": 3,
   "id": "634bc343-f4f3-47dd-b2db-2ae17ed26fc2",
   "metadata": {},
   "outputs": [],
   "source": [
    "!source ~/tensorflow-metal/bin/activate"
   ]
  },
  {
   "cell_type": "code",
   "execution_count": 4,
   "id": "4f3b29a7-6d66-4c95-8dd9-eb213d7900ba",
   "metadata": {},
   "outputs": [
    {
     "name": "stdout",
     "output_type": "stream",
     "text": [
      "Requirement already satisfied: pip in /Users/senturner/opt/anaconda3/lib/python3.9/site-packages (21.2.4)\n",
      "Collecting pip\n",
      "  Using cached pip-22.2.2-py3-none-any.whl (2.0 MB)\n",
      "Installing collected packages: pip\n",
      "  Attempting uninstall: pip\n",
      "    Found existing installation: pip 21.2.4\n",
      "    Uninstalling pip-21.2.4:\n",
      "      Successfully uninstalled pip-21.2.4\n",
      "Successfully installed pip-22.2.2\n"
     ]
    }
   ],
   "source": [
    "!python -m pip install -U pip"
   ]
  },
  {
   "cell_type": "code",
   "execution_count": 9,
   "id": "fe3d3c45-73f3-444c-8f09-374555aac9f3",
   "metadata": {},
   "outputs": [
    {
     "name": "stdout",
     "output_type": "stream",
     "text": [
      "\u001b[31mERROR: Could not find a version that satisfies the requirement tensorflow-macos (from versions: none)\u001b[0m\u001b[31m\n",
      "\u001b[0m\u001b[31mERROR: No matching distribution found for tensorflow-macos\u001b[0m\u001b[31m\n",
      "\u001b[0m"
     ]
    }
   ],
   "source": [
    "!pip install tensorflow-macos"
   ]
  },
  {
   "cell_type": "code",
   "execution_count": null,
   "id": "1c9e2a05-ce2b-4bce-97e4-3f405398b481",
   "metadata": {},
   "outputs": [],
   "source": [
    "import tensorflow"
   ]
  },
  {
   "cell_type": "code",
   "execution_count": null,
   "id": "fc693ce9-ee07-4581-9322-d0afcab868b1",
   "metadata": {},
   "outputs": [],
   "source": [
    "from keras.models import Sequential"
   ]
  }
 ],
 "metadata": {
  "kernelspec": {
   "display_name": "Python 3 (ipykernel)",
   "language": "python",
   "name": "python3"
  },
  "language_info": {
   "codemirror_mode": {
    "name": "ipython",
    "version": 3
   },
   "file_extension": ".py",
   "mimetype": "text/x-python",
   "name": "python",
   "nbconvert_exporter": "python",
   "pygments_lexer": "ipython3",
   "version": "3.9.7"
  }
 },
 "nbformat": 4,
 "nbformat_minor": 5
}
