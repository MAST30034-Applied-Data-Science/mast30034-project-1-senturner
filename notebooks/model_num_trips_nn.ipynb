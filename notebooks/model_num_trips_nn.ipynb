{
 "cells": [
  {
   "cell_type": "markdown",
   "id": "0f7489b7-281d-43de-b235-f2d3914027fa",
   "metadata": {},
   "source": [
    "<h1>Neural Network - Number of Trips<h1>"
   ]
  },
  {
   "cell_type": "code",
   "execution_count": 1,
   "id": "99c51c17",
   "metadata": {},
   "outputs": [],
   "source": [
    "from tensorflow import keras\n",
    "from tensorflow.keras.layers import Dense, Normalization"
   ]
  },
  {
   "cell_type": "code",
   "execution_count": 2,
   "id": "cc0646c1",
   "metadata": {},
   "outputs": [],
   "source": [
    "from sklearn.model_selection import train_test_split\n",
    "import pandas as pd\n",
    "from pyspark.sql import SparkSession\n",
    "from pyspark.sql import functions as F\n",
    "from pyspark.sql.functions import sum,avg,max,min,mean,count\n",
    "import numpy as np"
   ]
  },
  {
   "cell_type": "code",
   "execution_count": 3,
   "id": "11605829-aa6e-46dd-b787-78ce609e3e7e",
   "metadata": {},
   "outputs": [
    {
     "name": "stdout",
     "output_type": "stream",
     "text": [
      "22/08/16 23:42:51 WARN Utils: Your hostname, Sens-MacBook-Air.local resolves to a loopback address: 127.0.0.1; using 192.168.0.11 instead (on interface en0)\n",
      "22/08/16 23:42:51 WARN Utils: Set SPARK_LOCAL_IP if you need to bind to another address\n"
     ]
    },
    {
     "name": "stderr",
     "output_type": "stream",
     "text": [
      "Setting default log level to \"WARN\".\n",
      "To adjust logging level use sc.setLogLevel(newLevel). For SparkR, use setLogLevel(newLevel).\n"
     ]
    },
    {
     "name": "stdout",
     "output_type": "stream",
     "text": [
      "22/08/16 23:42:52 WARN NativeCodeLoader: Unable to load native-hadoop library for your platform... using builtin-java classes where applicable\n",
      "22/08/16 23:42:53 WARN Utils: Service 'SparkUI' could not bind on port 4040. Attempting port 4041.\n"
     ]
    }
   ],
   "source": [
    "spark = (\n",
    "    SparkSession.builder.appName(\"MAST30034 Tutorial 1\")\n",
    "    .config(\"spark.sql.repl.eagerEval.enabled\", True) \n",
    "    .config(\"spark.sql.parquet.cacheMetadata\", \"true\")\n",
    "    .config(\"spark.driver.memory\", \"8g\")\n",
    "    .config(\"spark.sql.parquet.enableVectorizedReader\", False)\n",
    "    .config(\"spark.sql.session.timeZone\", \"Etc/UTC\")\n",
    "    .getOrCreate()\n",
    ")"
   ]
  },
  {
   "cell_type": "code",
   "execution_count": 4,
   "id": "bd8c647a",
   "metadata": {},
   "outputs": [
    {
     "name": "stderr",
     "output_type": "stream",
     "text": [
      "                                                                                \r"
     ]
    }
   ],
   "source": [
    "sdf = spark.read.parquet('../data/curated/combined_data')"
   ]
  },
  {
   "cell_type": "code",
   "execution_count": 5,
   "id": "bc5ead21",
   "metadata": {},
   "outputs": [
    {
     "name": "stderr",
     "output_type": "stream",
     "text": [
      "                                                                                \r"
     ]
    }
   ],
   "source": [
    "df = sdf.groupby('Date', 'Hour', 'PU_Location_ID').agg(avg(\"Temperature_C\").alias(\"Temperature_C\"), \\\n",
    "                                                           avg(\"Humidity_%\").alias(\"Humidity_%\"), \\\n",
    "                                                           avg(\"Speed_kmh\").alias(\"Speed_kmh\"), \\\n",
    "                                                           avg(\"Precip_Rate_mm\").alias(\"Precip_rate_mm\"), \\\n",
    "                                                           avg(\"Driver_pay\").alias(\"Avg_driver_pay\"), \\\n",
    "                                                           avg(\"Day_of_week\").alias(\"Day_of_week\"), \\\n",
    "                                                           count('Temperature_C').alias(\"Num_trips\")).toPandas()"
   ]
  },
  {
   "cell_type": "code",
   "execution_count": 6,
   "id": "f127afdf",
   "metadata": {},
   "outputs": [],
   "source": [
    "df = df.sort_values(['Date', 'PU_Location_ID', 'Hour'], axis = 0)"
   ]
  },
  {
   "cell_type": "code",
   "execution_count": 7,
   "id": "0750e733",
   "metadata": {},
   "outputs": [],
   "source": [
    "df = pd.get_dummies(df, columns=['Hour', 'PU_Location_ID', 'Day_of_week'])"
   ]
  },
  {
   "cell_type": "code",
   "execution_count": 8,
   "id": "6e9beca7",
   "metadata": {},
   "outputs": [],
   "source": [
    "TARGET_COLS = ['Num_trips']\n",
    "\n",
    "train, test = train_test_split(df, train_size=0.8, shuffle = False)\n",
    "\n",
    "X_train, y_train = train.drop(TARGET_COLS, axis=1).drop(['Avg_driver_pay', 'Date'], axis=1), train[TARGET_COLS]\n",
    "X_test, y_test = test.drop(TARGET_COLS, axis=1).drop(['Avg_driver_pay', 'Date'], axis=1), test[TARGET_COLS]"
   ]
  },
  {
   "cell_type": "code",
   "execution_count": 9,
   "id": "d1549f5c",
   "metadata": {},
   "outputs": [
    {
     "name": "stdout",
     "output_type": "stream",
     "text": [
      "Metal device set to: Apple M1\n"
     ]
    },
    {
     "name": "stderr",
     "output_type": "stream",
     "text": [
      "2022-08-16 23:43:50.899139: I tensorflow/core/common_runtime/pluggable_device/pluggable_device_factory.cc:305] Could not identify NUMA node of platform GPU ID 0, defaulting to 0. Your kernel may not have been built with NUMA support.\n",
      "2022-08-16 23:43:50.899927: I tensorflow/core/common_runtime/pluggable_device/pluggable_device_factory.cc:271] Created TensorFlow device (/job:localhost/replica:0/task:0/device:GPU:0 with 0 MB memory) -> physical PluggableDevice (device: 0, name: METAL, pci bus id: <undefined>)\n",
      "2022-08-16 23:43:59.168075: W tensorflow/core/platform/profile_utils/cpu_utils.cc:128] Failed to get CPU frequency: 0 Hz\n",
      "2022-08-16 23:43:59.309459: I tensorflow/core/grappler/optimizers/custom_graph_optimizer_registry.cc:113] Plugin optimizer for device_type GPU is enabled.\n",
      "2022-08-16 23:43:59.331493: I tensorflow/core/grappler/optimizers/custom_graph_optimizer_registry.cc:113] Plugin optimizer for device_type GPU is enabled.\n"
     ]
    }
   ],
   "source": [
    "norm_layer = Normalization()\n",
    "norm_layer.adapt(X_train)"
   ]
  },
  {
   "cell_type": "code",
   "execution_count": 10,
   "id": "50a95bb8",
   "metadata": {},
   "outputs": [],
   "source": [
    "model = keras.Sequential(\n",
    "    [   \n",
    "        norm_layer,\n",
    "        Dense(10, activation='relu'),\n",
    "        Dense(1, activation='relu')\n",
    "    ]\n",
    ")"
   ]
  },
  {
   "cell_type": "code",
   "execution_count": 11,
   "id": "3bb8ac13",
   "metadata": {},
   "outputs": [],
   "source": [
    "model.compile(\n",
    "    optimizer='adam',\n",
    "    loss='MSE'\n",
    ")"
   ]
  },
  {
   "cell_type": "code",
   "execution_count": 12,
   "id": "35d01648",
   "metadata": {},
   "outputs": [
    {
     "name": "stdout",
     "output_type": "stream",
     "text": [
      "Epoch 1/10\n",
      "   15/81606 [..............................] - ETA: 5:04 - loss: 28686.2812  "
     ]
    },
    {
     "name": "stderr",
     "output_type": "stream",
     "text": [
      "2022-08-16 23:46:45.002447: I tensorflow/core/grappler/optimizers/custom_graph_optimizer_registry.cc:113] Plugin optimizer for device_type GPU is enabled.\n"
     ]
    },
    {
     "name": "stdout",
     "output_type": "stream",
     "text": [
      "81605/81606 [============================>.] - ETA: 0s - loss: 3132.8928"
     ]
    },
    {
     "name": "stderr",
     "output_type": "stream",
     "text": [
      "2022-08-16 23:51:51.521349: I tensorflow/core/grappler/optimizers/custom_graph_optimizer_registry.cc:113] Plugin optimizer for device_type GPU is enabled.\n"
     ]
    },
    {
     "name": "stdout",
     "output_type": "stream",
     "text": [
      "81606/81606 [==============================] - 369s 5ms/step - loss: 3132.8906 - val_loss: 2444.6448\n",
      "Epoch 2/10\n",
      "81606/81606 [==============================] - 360s 4ms/step - loss: 2828.7024 - val_loss: 2304.0125\n",
      "Epoch 3/10\n",
      "81606/81606 [==============================] - 357s 4ms/step - loss: 2602.0500 - val_loss: 2087.0493\n",
      "Epoch 4/10\n",
      "81606/81606 [==============================] - 356s 4ms/step - loss: 2863.5769 - val_loss: 2139.2808\n",
      "Epoch 5/10\n",
      "81606/81606 [==============================] - 359s 4ms/step - loss: 2550.1360 - val_loss: 1950.5179\n",
      "Epoch 6/10\n",
      "81606/81606 [==============================] - 358s 4ms/step - loss: 2450.7212 - val_loss: 1779.1794\n",
      "Epoch 7/10\n",
      "81606/81606 [==============================] - 359s 4ms/step - loss: 2030.2279 - val_loss: 1594.7871\n",
      "Epoch 8/10\n",
      "81606/81606 [==============================] - 357s 4ms/step - loss: 1748.9528 - val_loss: 1480.2471\n",
      "Epoch 9/10\n",
      "81606/81606 [==============================] - 359s 4ms/step - loss: 1578.2190 - val_loss: 1411.0402\n",
      "Epoch 10/10\n",
      "81606/81606 [==============================] - 360s 4ms/step - loss: 1521.8970 - val_loss: 1365.2817\n"
     ]
    }
   ],
   "source": [
    "history = model.fit(\n",
    "    x=X_train,\n",
    "    y=y_train,\n",
    "    batch_size=16,\n",
    "    validation_split=0.25,\n",
    "    epochs=10\n",
    ")"
   ]
  },
  {
   "cell_type": "code",
   "execution_count": 13,
   "id": "5dfeac02",
   "metadata": {
    "scrolled": false
   },
   "outputs": [
    {
     "name": "stdout",
     "output_type": "stream",
     "text": [
      "1/1 [==============================] - 0s 67ms/step\n"
     ]
    },
    {
     "name": "stderr",
     "output_type": "stream",
     "text": [
      "2022-08-17 00:46:39.127583: I tensorflow/core/grappler/optimizers/custom_graph_optimizer_registry.cc:113] Plugin optimizer for device_type GPU is enabled.\n"
     ]
    },
    {
     "data": {
      "text/html": [
       "<div>\n",
       "<style scoped>\n",
       "    .dataframe tbody tr th:only-of-type {\n",
       "        vertical-align: middle;\n",
       "    }\n",
       "\n",
       "    .dataframe tbody tr th {\n",
       "        vertical-align: top;\n",
       "    }\n",
       "\n",
       "    .dataframe thead th {\n",
       "        text-align: right;\n",
       "    }\n",
       "</style>\n",
       "<table border=\"1\" class=\"dataframe\">\n",
       "  <thead>\n",
       "    <tr style=\"text-align: right;\">\n",
       "      <th></th>\n",
       "      <th>Num_trips</th>\n",
       "      <th>prediction_num_trips</th>\n",
       "    </tr>\n",
       "  </thead>\n",
       "  <tbody>\n",
       "    <tr>\n",
       "      <th>1421589</th>\n",
       "      <td>27</td>\n",
       "      <td>7.321668</td>\n",
       "    </tr>\n",
       "    <tr>\n",
       "      <th>1679459</th>\n",
       "      <td>36</td>\n",
       "      <td>38.601170</td>\n",
       "    </tr>\n",
       "    <tr>\n",
       "      <th>600889</th>\n",
       "      <td>82</td>\n",
       "      <td>71.196953</td>\n",
       "    </tr>\n",
       "    <tr>\n",
       "      <th>600890</th>\n",
       "      <td>105</td>\n",
       "      <td>123.473175</td>\n",
       "    </tr>\n",
       "    <tr>\n",
       "      <th>592706</th>\n",
       "      <td>154</td>\n",
       "      <td>182.488129</td>\n",
       "    </tr>\n",
       "    <tr>\n",
       "      <th>1420705</th>\n",
       "      <td>182</td>\n",
       "      <td>184.634628</td>\n",
       "    </tr>\n",
       "    <tr>\n",
       "      <th>80970</th>\n",
       "      <td>155</td>\n",
       "      <td>153.648834</td>\n",
       "    </tr>\n",
       "    <tr>\n",
       "      <th>79654</th>\n",
       "      <td>140</td>\n",
       "      <td>160.079681</td>\n",
       "    </tr>\n",
       "    <tr>\n",
       "      <th>337620</th>\n",
       "      <td>160</td>\n",
       "      <td>180.792755</td>\n",
       "    </tr>\n",
       "    <tr>\n",
       "      <th>880092</th>\n",
       "      <td>150</td>\n",
       "      <td>188.706757</td>\n",
       "    </tr>\n",
       "  </tbody>\n",
       "</table>\n",
       "</div>"
      ],
      "text/plain": [
       "         Num_trips  prediction_num_trips\n",
       "1421589         27              7.321668\n",
       "1679459         36             38.601170\n",
       "600889          82             71.196953\n",
       "600890         105            123.473175\n",
       "592706         154            182.488129\n",
       "1420705        182            184.634628\n",
       "80970          155            153.648834\n",
       "79654          140            160.079681\n",
       "337620         160            180.792755\n",
       "880092         150            188.706757"
      ]
     },
     "execution_count": 13,
     "metadata": {},
     "output_type": "execute_result"
    }
   ],
   "source": [
    "comparison = y_test.iloc[:10].copy()\n",
    "comparison.loc[:, 'prediction_num_trips'] = model.predict(X_test.head(10))\n",
    "comparison"
   ]
  },
  {
   "cell_type": "code",
   "execution_count": 14,
   "id": "ee73f52e",
   "metadata": {},
   "outputs": [
    {
     "name": "stdout",
     "output_type": "stream",
     "text": [
      "13601/13601 [==============================] - 21s 2ms/step\n",
      "MSE: 2199.3950548653816\n"
     ]
    }
   ],
   "source": [
    "predictions = model.predict(X_test)\n",
    "errors = np.array(predictions - y_test)\n",
    "squared_errors = errors**2\n",
    "mean_squared_error = squared_errors.mean()\n",
    "\n",
    "print(f'MSE: {mean_squared_error}')"
   ]
  },
  {
   "cell_type": "code",
   "execution_count": 15,
   "id": "6e2bdf77",
   "metadata": {
    "scrolled": true
   },
   "outputs": [
    {
     "name": "stdout",
     "output_type": "stream",
     "text": [
      "Model R^2: 0.8155\n"
     ]
    }
   ],
   "source": [
    "tot_sum_squares = (np.array(y_test - y_test.mean())**2).sum()\n",
    "r2 = 1 - (squared_errors.sum() / tot_sum_squares)\n",
    "print(f'Model R^2: {r2:.4f}')"
   ]
  },
  {
   "cell_type": "markdown",
   "id": "933a4d52",
   "metadata": {},
   "source": [
    "<h3>Save predictions for further analysis<h3>"
   ]
  },
  {
   "cell_type": "code",
   "execution_count": 16,
   "id": "1ac33ddc",
   "metadata": {},
   "outputs": [],
   "source": [
    "import os\n",
    "if not os.path.exists('../data/curated/model_data'):\n",
    "    os.makedirs('../data/curated/model_data')"
   ]
  },
  {
   "cell_type": "code",
   "execution_count": 17,
   "id": "2471885e",
   "metadata": {},
   "outputs": [],
   "source": [
    "pd.DataFrame(predictions).to_csv('../data/curated/model_data/num_trips_pred_nn.csv')"
   ]
  },
  {
   "cell_type": "code",
   "execution_count": 18,
   "id": "88548fd4",
   "metadata": {},
   "outputs": [],
   "source": [
    "test.to_csv('../data/curated/model_data/test_data.csv')"
   ]
  }
 ],
 "metadata": {
  "kernelspec": {
   "display_name": "Python 3 (ipykernel)",
   "language": "python",
   "name": "python3"
  },
  "language_info": {
   "codemirror_mode": {
    "name": "ipython",
    "version": 3
   },
   "file_extension": ".py",
   "mimetype": "text/x-python",
   "name": "python",
   "nbconvert_exporter": "python",
   "pygments_lexer": "ipython3",
   "version": "3.9.13"
  }
 },
 "nbformat": 4,
 "nbformat_minor": 5
}
