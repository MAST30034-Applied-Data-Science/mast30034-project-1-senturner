{
 "cells": [
  {
   "cell_type": "markdown",
   "id": "0f7489b7-281d-43de-b235-f2d3914027fa",
   "metadata": {},
   "source": [
    "<h1>Model - Number of Trips<h1>"
   ]
  },
  {
   "cell_type": "code",
   "execution_count": 1,
   "id": "99c51c17",
   "metadata": {},
   "outputs": [],
   "source": [
    "from tensorflow import keras\n",
    "from tensorflow.keras.layers import Dense, Normalization"
   ]
  },
  {
   "cell_type": "code",
   "execution_count": 2,
   "id": "cc0646c1",
   "metadata": {},
   "outputs": [],
   "source": [
    "from sklearn.model_selection import train_test_split\n",
    "import pandas as pd\n",
    "from pyspark.sql import SparkSession\n",
    "from pyspark.sql import functions as F\n",
    "from pyspark.sql.functions import sum,avg,max,min,mean,count\n",
    "import numpy as np"
   ]
  },
  {
   "cell_type": "code",
   "execution_count": 3,
   "id": "11605829-aa6e-46dd-b787-78ce609e3e7e",
   "metadata": {},
   "outputs": [
    {
     "name": "stderr",
     "output_type": "stream",
     "text": [
      "Setting default log level to \"WARN\".\n",
      "To adjust logging level use sc.setLogLevel(newLevel). For SparkR, use setLogLevel(newLevel).\n"
     ]
    },
    {
     "name": "stdout",
     "output_type": "stream",
     "text": [
      "22/08/16 21:47:12 WARN NativeCodeLoader: Unable to load native-hadoop library for your platform... using builtin-java classes where applicable\n",
      "22/08/16 21:47:13 WARN Utils: Service 'SparkUI' could not bind on port 4040. Attempting port 4041.\n"
     ]
    }
   ],
   "source": [
    "spark = (\n",
    "    SparkSession.builder.appName(\"MAST30034 Tutorial 1\")\n",
    "    .config(\"spark.sql.repl.eagerEval.enabled\", True) \n",
    "    .config(\"spark.sql.parquet.cacheMetadata\", \"true\")\n",
    "    .config(\"spark.driver.memory\", \"8g\")\n",
    "    .config(\"spark.sql.parquet.enableVectorizedReader\", False)\n",
    "    .config(\"spark.sql.session.timeZone\", \"Etc/UTC\")\n",
    "    .getOrCreate()\n",
    ")"
   ]
  },
  {
   "cell_type": "code",
   "execution_count": 4,
   "id": "bd8c647a",
   "metadata": {},
   "outputs": [
    {
     "name": "stderr",
     "output_type": "stream",
     "text": [
      "                                                                                \r"
     ]
    }
   ],
   "source": [
    "sdf = spark.read.parquet('../data/curated/combined_data')"
   ]
  },
  {
   "cell_type": "code",
   "execution_count": 5,
   "id": "bc5ead21",
   "metadata": {},
   "outputs": [
    {
     "name": "stderr",
     "output_type": "stream",
     "text": [
      "                                                                                \r"
     ]
    }
   ],
   "source": [
    "df = sdf.groupby('Date', 'Hour', 'PU_Location_ID').agg(avg(\"Temperature_C\").alias(\"Temperature_C\"), \\\n",
    "                                                           avg(\"Humidity_%\").alias(\"Humidity_%\"), \\\n",
    "                                                           avg(\"Speed_kmh\").alias(\"Speed_kmh\"), \\\n",
    "                                                           avg(\"Precip_Rate_mm\").alias(\"Precip_rate_mm\"), \\\n",
    "                                                           avg(\"Driver_pay\").alias(\"Avg_driver_pay\"), \\\n",
    "                                                           avg(\"Day_of_week\").alias(\"Day_of_week\"), \\\n",
    "                                                           count('Temperature_C').alias(\"Num_trips\")).toPandas()"
   ]
  },
  {
   "cell_type": "code",
   "execution_count": 6,
   "id": "f127afdf",
   "metadata": {},
   "outputs": [],
   "source": [
    "df = df.sort_values(['Date', 'PU_Location_ID', 'Hour'], axis = 0)"
   ]
  },
  {
   "cell_type": "code",
   "execution_count": 7,
   "id": "0750e733",
   "metadata": {},
   "outputs": [],
   "source": [
    "df = pd.get_dummies(df, columns=['Hour', 'PU_Location_ID', 'Day_of_week'])"
   ]
  },
  {
   "cell_type": "code",
   "execution_count": 8,
   "id": "6e9beca7",
   "metadata": {},
   "outputs": [],
   "source": [
    "TARGET_COLS = ['Num_trips']\n",
    "\n",
    "train, test = train_test_split(df, train_size=0.8, shuffle = False)\n",
    "\n",
    "X_train, y_train = train.drop(TARGET_COLS, axis=1).drop(['Avg_driver_pay', 'Date'], axis=1), train[TARGET_COLS]\n",
    "X_test, y_test = test.drop(TARGET_COLS, axis=1).drop(['Avg_driver_pay', 'Date'], axis=1), test[TARGET_COLS]"
   ]
  },
  {
   "cell_type": "code",
   "execution_count": 9,
   "id": "d1549f5c",
   "metadata": {},
   "outputs": [
    {
     "name": "stdout",
     "output_type": "stream",
     "text": [
      "Metal device set to: Apple M1\n"
     ]
    },
    {
     "name": "stderr",
     "output_type": "stream",
     "text": [
      "2022-08-16 21:48:07.730975: I tensorflow/core/common_runtime/pluggable_device/pluggable_device_factory.cc:305] Could not identify NUMA node of platform GPU ID 0, defaulting to 0. Your kernel may not have been built with NUMA support.\n",
      "2022-08-16 21:48:07.731157: I tensorflow/core/common_runtime/pluggable_device/pluggable_device_factory.cc:271] Created TensorFlow device (/job:localhost/replica:0/task:0/device:GPU:0 with 0 MB memory) -> physical PluggableDevice (device: 0, name: METAL, pci bus id: <undefined>)\n",
      "2022-08-16 21:48:15.629715: W tensorflow/core/platform/profile_utils/cpu_utils.cc:128] Failed to get CPU frequency: 0 Hz\n",
      "2022-08-16 21:48:15.748300: I tensorflow/core/grappler/optimizers/custom_graph_optimizer_registry.cc:113] Plugin optimizer for device_type GPU is enabled.\n",
      "2022-08-16 21:48:15.769486: I tensorflow/core/grappler/optimizers/custom_graph_optimizer_registry.cc:113] Plugin optimizer for device_type GPU is enabled.\n"
     ]
    }
   ],
   "source": [
    "norm_layer = Normalization()\n",
    "norm_layer.adapt(X_train)"
   ]
  },
  {
   "cell_type": "code",
   "execution_count": 10,
   "id": "50a95bb8",
   "metadata": {},
   "outputs": [],
   "source": [
    "model = keras.Sequential(\n",
    "    [   \n",
    "        norm_layer,\n",
    "        Dense(10, activation='relu'),\n",
    "        Dense(1, activation='relu')\n",
    "    ]\n",
    ")"
   ]
  },
  {
   "cell_type": "code",
   "execution_count": 11,
   "id": "3bb8ac13",
   "metadata": {},
   "outputs": [],
   "source": [
    "model.compile(\n",
    "    optimizer='adam',\n",
    "    loss='MSE'\n",
    ")"
   ]
  },
  {
   "cell_type": "code",
   "execution_count": null,
   "id": "35d01648",
   "metadata": {},
   "outputs": [
    {
     "name": "stdout",
     "output_type": "stream",
     "text": [
      "Epoch 1/10\n",
      "   15/81606 [..............................] - ETA: 4:51 - loss: 23084.3906   "
     ]
    },
    {
     "name": "stderr",
     "output_type": "stream",
     "text": [
      "2022-08-16 21:51:19.336661: I tensorflow/core/grappler/optimizers/custom_graph_optimizer_registry.cc:113] Plugin optimizer for device_type GPU is enabled.\n"
     ]
    },
    {
     "name": "stdout",
     "output_type": "stream",
     "text": [
      "81606/81606 [==============================] - ETA: 0s - loss: 3052.3044"
     ]
    },
    {
     "name": "stderr",
     "output_type": "stream",
     "text": [
      "2022-08-16 21:56:17.482603: I tensorflow/core/grappler/optimizers/custom_graph_optimizer_registry.cc:113] Plugin optimizer for device_type GPU is enabled.\n"
     ]
    },
    {
     "name": "stdout",
     "output_type": "stream",
     "text": [
      "81606/81606 [==============================] - 358s 4ms/step - loss: 3052.3044 - val_loss: 2476.2039\n",
      "Epoch 2/10\n",
      "81606/81606 [==============================] - 361s 4ms/step - loss: 5234.0190 - val_loss: 3457.3210\n",
      "Epoch 3/10\n",
      "81606/81606 [==============================] - 359s 4ms/step - loss: 4897.5342 - val_loss: 3289.9507\n",
      "Epoch 4/10\n",
      "25689/81606 [========>.....................] - ETA: 3:28 - loss: 5383.8032"
     ]
    }
   ],
   "source": [
    "history = model.fit(\n",
    "    x=X_train,\n",
    "    y=y_train,\n",
    "    batch_size=16,\n",
    "    validation_split=0.25,\n",
    "    epochs=10\n",
    ")"
   ]
  },
  {
   "cell_type": "code",
   "execution_count": null,
   "id": "5dfeac02",
   "metadata": {
    "scrolled": false
   },
   "outputs": [],
   "source": [
    "comparison = y_test.iloc[:10].copy()\n",
    "comparison.loc[:, 'prediction_num_trips'] = model.predict(X_test.head(10))\n",
    "comparison"
   ]
  },
  {
   "cell_type": "code",
   "execution_count": null,
   "id": "ee73f52e",
   "metadata": {},
   "outputs": [],
   "source": [
    "predictions = model.predict(X_test)\n",
    "errors = np.array(predictions - y_test)\n",
    "squared_errors = errors**2\n",
    "mean_squared_error = squared_errors.mean()\n",
    "\n",
    "print(f'MSE: {mean_squared_error}')"
   ]
  },
  {
   "cell_type": "code",
   "execution_count": null,
   "id": "6e2bdf77",
   "metadata": {
    "scrolled": true
   },
   "outputs": [],
   "source": [
    "tot_sum_squares = (np.array(y_test - y_test.mean())**2).sum()\n",
    "r2 = 1 - (squared_errors.sum() / tot_sum_squares)\n",
    "print(f'Model R^2: {r2:.4f}')"
   ]
  },
  {
   "cell_type": "markdown",
   "id": "933a4d52",
   "metadata": {},
   "source": [
    "<h3>Save predictions for further analysis<h3>"
   ]
  },
  {
   "cell_type": "code",
   "execution_count": null,
   "id": "1ac33ddc",
   "metadata": {},
   "outputs": [],
   "source": [
    "import os\n",
    "if not os.path.exists('../data/curated/model_data'):\n",
    "    os.makedirs('../data/curated/model_data')"
   ]
  },
  {
   "cell_type": "code",
   "execution_count": null,
   "id": "2471885e",
   "metadata": {},
   "outputs": [],
   "source": [
    "pd.DataFrame(predictions).to_csv('../data/curated/model_data/num_trips_pred.csv')"
   ]
  },
  {
   "cell_type": "code",
   "execution_count": null,
   "id": "88548fd4",
   "metadata": {},
   "outputs": [],
   "source": [
    "test.to_csv('../data/curated/model_data/test_data.csv')"
   ]
  }
 ],
 "metadata": {
  "kernelspec": {
   "display_name": "Python 3 (ipykernel)",
   "language": "python",
   "name": "python3"
  },
  "language_info": {
   "codemirror_mode": {
    "name": "ipython",
    "version": 3
   },
   "file_extension": ".py",
   "mimetype": "text/x-python",
   "name": "python",
   "nbconvert_exporter": "python",
   "pygments_lexer": "ipython3",
   "version": "3.9.13"
  }
 },
 "nbformat": 4,
 "nbformat_minor": 5
}
