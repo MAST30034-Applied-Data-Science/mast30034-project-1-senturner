{
 "cells": [
  {
   "cell_type": "markdown",
   "id": "e9b5a0dc-6734-49d3-a276-e4c902707e9b",
   "metadata": {},
   "source": [
    "<h1>Pre-Processing: One Dataframe<h1>"
   ]
  },
  {
   "cell_type": "markdown",
   "id": "8f8a4799-8ec8-4ee4-8f74-88b144c58433",
   "metadata": {},
   "source": [
    " This notebook is responsible for aggregating the data set into one large dataframe/parquet"
   ]
  },
  {
   "cell_type": "code",
   "execution_count": 1,
   "id": "f4e32723-35b5-403f-8fd8-3c08dc751cd3",
   "metadata": {},
   "outputs": [],
   "source": [
    "from pyspark.sql import SparkSession, functions as F\n",
    "import findspark\n",
    "findspark.init()\n",
    "import pandas as pd\n",
    "from datetime import *\n",
    "from pyspark.sql.types import DateType\n",
    "import seaborn as sns\n",
    "import matplotlib.pyplot as plt"
   ]
  },
  {
   "cell_type": "markdown",
   "id": "e810aaa2-30e6-45a4-b548-faa61f3a779f",
   "metadata": {},
   "source": [
    "Read in all the data and group it accordingly"
   ]
  },
  {
   "cell_type": "code",
   "execution_count": 2,
   "id": "ee77b7f7-2a50-4dbb-906f-818dfd87f30b",
   "metadata": {},
   "outputs": [
    {
     "name": "stdout",
     "output_type": "stream",
     "text": [
      "22/08/06 15:38:29 WARN Utils: Your hostname, Sens-MacBook-Air.local resolves to a loopback address: 127.0.0.1; using 192.168.0.11 instead (on interface en0)\n",
      "22/08/06 15:38:29 WARN Utils: Set SPARK_LOCAL_IP if you need to bind to another address\n"
     ]
    },
    {
     "name": "stderr",
     "output_type": "stream",
     "text": [
      "Setting default log level to \"WARN\".\n",
      "To adjust logging level use sc.setLogLevel(newLevel). For SparkR, use setLogLevel(newLevel).\n"
     ]
    },
    {
     "name": "stdout",
     "output_type": "stream",
     "text": [
      "22/08/06 15:38:29 WARN NativeCodeLoader: Unable to load native-hadoop library for your platform... using builtin-java classes where applicable\n"
     ]
    }
   ],
   "source": [
    "from pyspark.sql import SparkSession\n",
    "\n",
    "# Create a spark session (which will run spark jobs)\n",
    "spark = (\n",
    "    SparkSession.builder.appName(\"MAST30034 Tutorial 1\")\n",
    "    .config(\"spark.sql.repl.eagerEval.enabled\", True) \n",
    "    .config(\"spark.sql.parquet.cacheMetadata\", \"true\")\n",
    "    .config(\"spark.driver.memory\", \"8g\")\n",
    "    .config(\"spark.sql.parquet.enableVectorizedReader\", False)\n",
    "    .getOrCreate()\n",
    ")"
   ]
  },
  {
   "cell_type": "markdown",
   "id": "c7bfb8bf-687b-4a13-8ca4-83cb8a3e170b",
   "metadata": {},
   "source": [
    "<h2>Combination and Feature Selection<h2>"
   ]
  },
  {
   "cell_type": "markdown",
   "id": "7d4f6eed-4d93-49dc-8e86-a16affafef76",
   "metadata": {},
   "source": [
    "Combining dataframes into single dataframe and performing basic feature selection (removing features that clearly have no causal relationship with demand and driver pay)."
   ]
  },
  {
   "cell_type": "code",
   "execution_count": 3,
   "id": "8e3cec8f-89e5-4234-bb61-ec6c60475444",
   "metadata": {},
   "outputs": [
    {
     "name": "stderr",
     "output_type": "stream",
     "text": [
      "                                                                                \r"
     ]
    },
    {
     "data": {
      "text/plain": [
       "377940135"
      ]
     },
     "execution_count": 3,
     "metadata": {},
     "output_type": "execute_result"
    }
   ],
   "source": [
    "sdf_taxi = spark.read.parquet('../data/raw/fhv_taxi_data/*.parquet')\n",
    "sdf_taxi.count()"
   ]
  },
  {
   "cell_type": "code",
   "execution_count": 4,
   "id": "857063b2-9113-43ff-8f26-2662ab31d33f",
   "metadata": {},
   "outputs": [
    {
     "name": "stderr",
     "output_type": "stream",
     "text": [
      "                                                                                \r"
     ]
    },
    {
     "data": {
      "text/plain": [
       "344192887"
      ]
     },
     "execution_count": 4,
     "metadata": {},
     "output_type": "execute_result"
    }
   ],
   "source": [
    "# Ensure only using valid records\n",
    "\n",
    "sdf_taxi = sdf_taxi.where((F.col('trip_time') > 0)\n",
    "        & (F.col('driver_pay') > 0)\n",
    "        & (F.col('base_passenger_fare') > 0)\n",
    "        & ((F.col('Hvfhs_license_num') == 'HV0002') | (F.col('Hvfhs_license_num') == 'HV0003') | (F.col('Hvfhs_license_num') == 'HV0004')| (F.col('Hvfhs_license_num') == 'HV0005')))\n",
    "sdf_taxi.count()\n",
    "\n",
    "# Roughly 34 million invalid records removed"
   ]
  },
  {
   "cell_type": "code",
   "execution_count": 5,
   "id": "a3d96ab1-94e5-493e-8f1d-f8c7ad63502f",
   "metadata": {},
   "outputs": [],
   "source": [
    "sdf_taxi = sdf_taxi.select(\"Pickup_datetime\", \"DropOff_datetime\", \"PULocationID\", \"DOLocationID\", \"driver_pay\", \"trip_time\")"
   ]
  },
  {
   "cell_type": "code",
   "execution_count": 6,
   "id": "683f4000-9d5d-4fb8-a8ad-d11543b521cb",
   "metadata": {},
   "outputs": [],
   "source": [
    "sdf_weather = spark.read.option(\"header\", True).csv('../data/raw/KNYJACKS2.csv')"
   ]
  },
  {
   "cell_type": "markdown",
   "id": "4eeee657-a2d6-476c-af74-4e9e183c2ab7",
   "metadata": {},
   "source": [
    "Remove weather variables that are strongly correlated because they will be useless when conducting analysis or using in a regression formula"
   ]
  },
  {
   "cell_type": "code",
   "execution_count": 7,
   "id": "8a4cabc9-8ce0-4102-b6a7-5212c016d340",
   "metadata": {
    "tags": []
   },
   "outputs": [
    {
     "data": {
      "image/png": "[encoded data removed]",
      "text/plain": [
       "<Figure size 432x288 with 2 Axes>"
      ]
     },
     "metadata": {
      "needs_background": "light"
     },
     "output_type": "display_data"
    }
   ],
   "source": [
    "df = pd.read_csv('../data/raw/KNYJACKS2.csv')\n",
    "sns.heatmap(df.corr())\n",
    "# wow that's easy...\n",
    "\n",
    "plt.title('Pearson Correlation Metric')\n",
    "plt.show()"
   ]
  },
  {
   "cell_type": "markdown",
   "id": "aee8752d-e55f-4b30-b3f2-e1db66364f3f",
   "metadata": {},
   "source": [
    "Remove dew point because dew point is a combination of temperature and humidity (reflected by the large correlation with both). Only need one of gust and speed because they're strongly correlated, chose speed. Precip_rate gives a more accurate description of weather at the time of taxi booking so choose this over precip_accumulation."
   ]
  },
  {
   "cell_type": "code",
   "execution_count": 8,
   "id": "6cc47af6-c6ab-4991-b7dd-0eca6d03ae92",
   "metadata": {},
   "outputs": [],
   "source": [
    "sdf_weather = sdf_weather.select(\"Date\",\"Time\",\"Temperature_C\",\"Humidity_%\", \"Speed_kmh\", \"Precip_Rate_mm\", \"Pressure_hPa\")\n",
    "\n",
    "# Convert to required format for aggregating\n",
    "\n",
    "sdf_weather = sdf_weather.withColumn(\n",
    "    'Datetime',\n",
    "    F.concat_ws(\" \", \"Date\", \"Time\"))\n",
    "\n",
    "sdf_weather = sdf_weather.withColumn(\n",
    "    'Datetime',\n",
    "    F.to_timestamp(\"Datetime\", \"yyyy/MM/dd hh:mm a\"))\n",
    "\n",
    "sdf_weather = sdf_weather.withColumn(\n",
    "    'Date',\n",
    "    F.to_date(\"Date\", \"yyyy/MM/dd\"))\n",
    "\n",
    "# Only want 1 weather record for each hour, so choose the first record of every hour\n",
    "\n",
    "#print(sdf_weather.count())\n",
    "\n",
    "sdf_weather = sdf_weather.where(F.minute(\"Datetime\") <= 4)\n",
    "\n",
    "#print(sdf_weather.count())\n",
    "\n",
    "sdf_weather = sdf_weather.withColumn(\n",
    "    'Hour',\n",
    "    F.hour(\"Datetime\"))\n",
    "\n",
    "sdf_weather = sdf_weather.drop(\"Time\", \"Datetime\")"
   ]
  },
  {
   "cell_type": "code",
   "execution_count": 9,
   "id": "734dfc27-2199-4d75-b455-f7471302952e",
   "metadata": {},
   "outputs": [],
   "source": [
    "sdf = sdf_taxi.join(sdf_weather, (F.to_date(\"Pickup_datetime\") == F.col(\"Date\")) & (F.hour(\"Pickup_datetime\") == F.col(\"Hour\")), \"inner\")"
   ]
  },
  {
   "cell_type": "code",
   "execution_count": 10,
   "id": "d5cfea59-87ab-46dc-bf4d-6c689827055e",
   "metadata": {},
   "outputs": [
    {
     "name": "stdout",
     "output_type": "stream",
     "text": [
      "-RECORD 0--------------------\n",
      " PU_Location_ID | 245        \n",
      " DO_Location_ID | 251        \n",
      " Driver_pay     | 7.48       \n",
      " Trip_time      | 579        \n",
      " Date           | 2019-02-01 \n",
      " Temperature_C  | -8.44      \n",
      " Humidity_%     | 36.0       \n",
      " Speed_kmh      | 3.54       \n",
      " Precip_Rate_mm | 0.0        \n",
      " Pressure_hPa   | 1031.49    \n",
      " Hour           | 11         \n",
      " Day_of_week    | 6          \n",
      "only showing top 1 row\n",
      "\n"
     ]
    }
   ],
   "source": [
    "# Add day of week feature because this is likely to be correlated with taxi demand\n",
    "\n",
    "sdf = sdf.withColumn(\n",
    "    'Day_of_week',\n",
    "    F.dayofweek(\"Date\"))\n",
    "\n",
    "# Remove repeated/no-longer useful columns and rename columns for matching format in column titles\n",
    "\n",
    "sdf = sdf.drop(\"Pickup_datetime\", \"DropOff_datetime\").withColumnRenamed('PULocationID', 'PU_Location_ID').withColumnRenamed('DOLocationID', 'DO_Location_ID').withColumnRenamed('driver_pay', 'Driver_pay').withColumnRenamed('trip_time', 'Trip_time')\n",
    "sdf.show(1, vertical = True)"
   ]
  },
  {
   "cell_type": "markdown",
   "id": "04da4463-fdd3-4632-ab67-dbb7c096bf26",
   "metadata": {},
   "source": [
    "<h2>Outlier detection<h2>"
   ]
  },
  {
   "cell_type": "markdown",
   "id": "80b06e47-6192-4d6b-a3ff-d23c9f2f8f81",
   "metadata": {},
   "source": [
    "Invalid taxi journey's have already been removed (negative/zero trip length, negative/zero driver pay, negative/zero passenger fare and journey's with invalid HVFHS liscenses)."
   ]
  },
  {
   "cell_type": "code",
   "execution_count": 11,
   "id": "7ab432f1-cd9b-4710-9546-db4a770e4245",
   "metadata": {},
   "outputs": [
    {
     "name": "stderr",
     "output_type": "stream",
     "text": [
      "                                                                                \r"
     ]
    },
    {
     "data": {
      "text/plain": [
       "224171189"
      ]
     },
     "execution_count": 11,
     "metadata": {},
     "output_type": "execute_result"
    }
   ],
   "source": [
    "sdf.count()"
   ]
  },
  {
   "cell_type": "markdown",
   "id": "cab70d51-6f5f-47ae-b57c-48429142e68e",
   "metadata": {},
   "source": [
    "Remove trips with dates outside of desired range"
   ]
  },
  {
   "cell_type": "code",
   "execution_count": 12,
   "id": "0f18b35f-74da-4b7e-826a-1851e1d210d1",
   "metadata": {},
   "outputs": [
    {
     "name": "stderr",
     "output_type": "stream",
     "text": [
      "                                                                                \r"
     ]
    },
    {
     "data": {
      "text/plain": [
       "223436103"
      ]
     },
     "execution_count": 12,
     "metadata": {},
     "output_type": "execute_result"
    }
   ],
   "source": [
    "sdf = sdf.where(F.col(\"Date\") >= '2019-02-01')\n",
    "sdf = sdf.where(F.col(\"Date\") <= '2020-01-31')\n",
    "sdf.count()"
   ]
  },
  {
   "cell_type": "markdown",
   "id": "7f6d9882-9f0f-46cb-8f68-babb54e83797",
   "metadata": {},
   "source": [
    "Remove overly long trips, > 4 hours"
   ]
  },
  {
   "cell_type": "code",
   "execution_count": 13,
   "id": "9f24cc0d-8159-41a9-83ff-e6ca372511fe",
   "metadata": {},
   "outputs": [
    {
     "name": "stderr",
     "output_type": "stream",
     "text": [
      "                                                                                \r"
     ]
    },
    {
     "data": {
      "text/plain": [
       "223428464"
      ]
     },
     "execution_count": 13,
     "metadata": {},
     "output_type": "execute_result"
    }
   ],
   "source": [
    "sdf = sdf.where(F.col(\"Trip_time\") < 60*60*4)\n",
    "sdf.count()"
   ]
  },
  {
   "cell_type": "markdown",
   "id": "ceada11e-95d9-43ba-97fb-c5f63b429857",
   "metadata": {},
   "source": [
    "Trips with pickup or dropoff ID's outside of the desired range 1-263"
   ]
  },
  {
   "cell_type": "code",
   "execution_count": 15,
   "id": "52392487-230e-4fe9-a4ea-8cfeb30a6983",
   "metadata": {},
   "outputs": [
    {
     "name": "stderr",
     "output_type": "stream",
     "text": [
      "                                                                                \r"
     ]
    },
    {
     "data": {
      "text/plain": [
       "215685351"
      ]
     },
     "execution_count": 15,
     "metadata": {},
     "output_type": "execute_result"
    }
   ],
   "source": [
    "sdf = sdf.where((F.col(\"PU_Location_ID\") >= 1) & (F.col(\"PU_Location_ID\") <= 263))\n",
    "sdf = sdf.where((F.col(\"DO_Location_ID\") >= 1) & (F.col(\"DO_Location_ID\") <= 263))\n",
    "sdf.count()"
   ]
  }
 ],
 "metadata": {
  "kernelspec": {
   "display_name": "Python 3 (ipykernel)",
   "language": "python",
   "name": "python3"
  },
  "language_info": {
   "codemirror_mode": {
    "name": "ipython",
    "version": 3
   },
   "file_extension": ".py",
   "mimetype": "text/x-python",
   "name": "python",
   "nbconvert_exporter": "python",
   "pygments_lexer": "ipython3",
   "version": "3.9.7"
  }
 },
 "nbformat": 4,
 "nbformat_minor": 5
}
