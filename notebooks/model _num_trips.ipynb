{
 "cells": [
  {
   "cell_type": "markdown",
   "id": "0f7489b7-281d-43de-b235-f2d3914027fa",
   "metadata": {},
   "source": [
    "<h1>Model - Number of Trips<h1>"
   ]
  },
  {
   "cell_type": "code",
   "execution_count": 1,
   "id": "77a5d050",
   "metadata": {},
   "outputs": [],
   "source": [
    "from tensorflow import keras\n",
    "from tensorflow.keras.layers import Dense, Normalization"
   ]
  },
  {
   "cell_type": "code",
   "execution_count": 2,
   "id": "e669a9f9",
   "metadata": {},
   "outputs": [],
   "source": [
    "from sklearn.model_selection import train_test_split\n",
    "import pandas as pd\n",
    "from pyspark.sql import SparkSession\n",
    "from pyspark.sql import functions as F\n",
    "from pyspark.sql.functions import sum,avg,max,min,mean,count\n",
    "import numpy as np"
   ]
  },
  {
   "cell_type": "code",
   "execution_count": 3,
   "id": "11605829-aa6e-46dd-b787-78ce609e3e7e",
   "metadata": {},
   "outputs": [
    {
     "name": "stdout",
     "output_type": "stream",
     "text": [
      "22/08/16 19:16:10 WARN Utils: Your hostname, Sens-MacBook-Air.local resolves to a loopback address: 127.0.0.1; using 192.168.0.11 instead (on interface en0)\n",
      "22/08/16 19:16:10 WARN Utils: Set SPARK_LOCAL_IP if you need to bind to another address\n"
     ]
    },
    {
     "name": "stderr",
     "output_type": "stream",
     "text": [
      "Setting default log level to \"WARN\".\n",
      "To adjust logging level use sc.setLogLevel(newLevel). For SparkR, use setLogLevel(newLevel).\n"
     ]
    },
    {
     "name": "stdout",
     "output_type": "stream",
     "text": [
      "22/08/16 19:16:11 WARN NativeCodeLoader: Unable to load native-hadoop library for your platform... using builtin-java classes where applicable\n",
      "22/08/16 19:16:12 WARN Utils: Service 'SparkUI' could not bind on port 4040. Attempting port 4041.\n"
     ]
    }
   ],
   "source": [
    "spark = (\n",
    "    SparkSession.builder.appName(\"MAST30034 Tutorial 1\")\n",
    "    .config(\"spark.sql.repl.eagerEval.enabled\", True) \n",
    "    .config(\"spark.sql.parquet.cacheMetadata\", \"true\")\n",
    "    .config(\"spark.driver.memory\", \"8g\")\n",
    "    .config(\"spark.sql.parquet.enableVectorizedReader\", False)\n",
    "    .config(\"spark.sql.session.timeZone\", \"Etc/UTC\")\n",
    "    .getOrCreate()\n",
    ")"
   ]
  },
  {
   "cell_type": "code",
   "execution_count": 4,
   "id": "2b0ec77c",
   "metadata": {},
   "outputs": [
    {
     "name": "stderr",
     "output_type": "stream",
     "text": [
      "                                                                                \r"
     ]
    }
   ],
   "source": [
    "sdf = spark.read.parquet('../data/curated/combined_data')"
   ]
  },
  {
   "cell_type": "code",
   "execution_count": 5,
   "id": "cb69536e",
   "metadata": {},
   "outputs": [
    {
     "name": "stderr",
     "output_type": "stream",
     "text": [
      "                                                                                \r"
     ]
    }
   ],
   "source": [
    "df = sdf.groupby('Date', 'Hour', 'PU_Location_ID').agg(avg(\"Temperature_C\").alias(\"Temperature_C\"), \\\n",
    "                                                           avg(\"Humidity_%\").alias(\"Humidity_%\"), \\\n",
    "                                                           avg(\"Speed_kmh\").alias(\"Speed_kmh\"), \\\n",
    "                                                           avg(\"Precip_Rate_mm\").alias(\"Precip_rate_mm\"), \\\n",
    "                                                           avg(\"Driver_pay\").alias(\"Avg_driver_pay\"), \\\n",
    "                                                           avg(\"Day_of_week\").alias(\"Day_of_week\"), \\\n",
    "                                                           count('Temperature_C').alias(\"Num_trips\")).toPandas()"
   ]
  },
  {
   "cell_type": "code",
   "execution_count": 6,
   "id": "6f6c1037",
   "metadata": {},
   "outputs": [],
   "source": [
    "df = df.sort_values('Date', axis = 0)"
   ]
  },
  {
   "cell_type": "code",
   "execution_count": 7,
   "id": "c5d51533",
   "metadata": {},
   "outputs": [],
   "source": [
    "df = df.drop('Date', axis = 1)"
   ]
  },
  {
   "cell_type": "code",
   "execution_count": 8,
   "id": "a94ed052",
   "metadata": {},
   "outputs": [],
   "source": [
    "df = pd.get_dummies(df, columns=['Hour', 'PU_Location_ID', 'Day_of_week'])"
   ]
  },
  {
   "cell_type": "code",
   "execution_count": 9,
   "id": "b06aaaf4",
   "metadata": {},
   "outputs": [],
   "source": [
    "TARGET_COLS = ['Num_trips']\n",
    "\n",
    "train, test = train_test_split(df, train_size=0.8, shuffle = False)\n",
    "\n",
    "X_train, y_train = train.drop(TARGET_COLS, axis=1).drop('Avg_driver_pay', axis=1), train[TARGET_COLS]\n",
    "X_test, y_test = test.drop(TARGET_COLS, axis=1).drop('Avg_driver_pay', axis=1), test[TARGET_COLS]"
   ]
  },
  {
   "cell_type": "code",
   "execution_count": 10,
   "id": "d1dc45bb",
   "metadata": {},
   "outputs": [
    {
     "name": "stdout",
     "output_type": "stream",
     "text": [
      "Metal device set to: Apple M1\n"
     ]
    },
    {
     "name": "stderr",
     "output_type": "stream",
     "text": [
      "2022-08-16 19:18:00.616671: I tensorflow/core/common_runtime/pluggable_device/pluggable_device_factory.cc:305] Could not identify NUMA node of platform GPU ID 0, defaulting to 0. Your kernel may not have been built with NUMA support.\n",
      "2022-08-16 19:18:00.617001: I tensorflow/core/common_runtime/pluggable_device/pluggable_device_factory.cc:271] Created TensorFlow device (/job:localhost/replica:0/task:0/device:GPU:0 with 0 MB memory) -> physical PluggableDevice (device: 0, name: METAL, pci bus id: <undefined>)\n",
      "2022-08-16 19:18:05.775225: W tensorflow/core/platform/profile_utils/cpu_utils.cc:128] Failed to get CPU frequency: 0 Hz\n",
      "2022-08-16 19:18:05.892331: I tensorflow/core/grappler/optimizers/custom_graph_optimizer_registry.cc:113] Plugin optimizer for device_type GPU is enabled.\n",
      "2022-08-16 19:18:05.911532: I tensorflow/core/grappler/optimizers/custom_graph_optimizer_registry.cc:113] Plugin optimizer for device_type GPU is enabled.\n"
     ]
    }
   ],
   "source": [
    "norm_layer = Normalization()\n",
    "norm_layer.adapt(X_train)"
   ]
  },
  {
   "cell_type": "code",
   "execution_count": 11,
   "id": "67876455",
   "metadata": {},
   "outputs": [],
   "source": [
    "model = keras.Sequential(\n",
    "    [   \n",
    "        norm_layer,\n",
    "        Dense(10, activation='relu'),\n",
    "        Dense(1, activation='relu')\n",
    "    ]\n",
    ")"
   ]
  },
  {
   "cell_type": "code",
   "execution_count": 12,
   "id": "7568cd05",
   "metadata": {},
   "outputs": [],
   "source": [
    "model.compile(\n",
    "    optimizer='adam',\n",
    "    loss='MSE'\n",
    ")"
   ]
  },
  {
   "cell_type": "code",
   "execution_count": 13,
   "id": "e1ccb0a9",
   "metadata": {},
   "outputs": [
    {
     "name": "stdout",
     "output_type": "stream",
     "text": [
      "Epoch 1/8\n"
     ]
    },
    {
     "name": "stderr",
     "output_type": "stream",
     "text": [
      "2022-08-16 19:22:11.763233: I tensorflow/core/grappler/optimizers/custom_graph_optimizer_registry.cc:113] Plugin optimizer for device_type GPU is enabled.\n"
     ]
    },
    {
     "name": "stdout",
     "output_type": "stream",
     "text": [
      "81606/81606 [==============================] - ETA: 0s - loss: 2774.2661"
     ]
    },
    {
     "name": "stderr",
     "output_type": "stream",
     "text": [
      "2022-08-16 19:27:11.209557: I tensorflow/core/grappler/optimizers/custom_graph_optimizer_registry.cc:113] Plugin optimizer for device_type GPU is enabled.\n"
     ]
    },
    {
     "name": "stdout",
     "output_type": "stream",
     "text": [
      "81606/81606 [==============================] - 358s 4ms/step - loss: 2774.2661 - val_loss: 2101.2178\n",
      "Epoch 2/8\n",
      "81606/81606 [==============================] - 356s 4ms/step - loss: 1934.3385 - val_loss: 1870.5824\n",
      "Epoch 3/8\n",
      "81606/81606 [==============================] - 357s 4ms/step - loss: 1853.4757 - val_loss: 1760.8907\n",
      "Epoch 4/8\n",
      "81606/81606 [==============================] - 357s 4ms/step - loss: 1738.9683 - val_loss: 1682.0385\n",
      "Epoch 5/8\n",
      "81606/81606 [==============================] - 357s 4ms/step - loss: 1656.2844 - val_loss: 1607.9918\n",
      "Epoch 6/8\n",
      "81606/81606 [==============================] - 358s 4ms/step - loss: 1583.1403 - val_loss: 1557.0962\n",
      "Epoch 7/8\n",
      "81606/81606 [==============================] - 358s 4ms/step - loss: 1551.6143 - val_loss: 1501.1436\n",
      "Epoch 8/8\n",
      "81606/81606 [==============================] - 357s 4ms/step - loss: 1526.2845 - val_loss: 1469.3706\n"
     ]
    }
   ],
   "source": [
    "history = model.fit(\n",
    "    x=X_train,\n",
    "    y=y_train,\n",
    "    batch_size=16,\n",
    "    validation_split=0.25,\n",
    "    epochs=8\n",
    ")"
   ]
  },
  {
   "cell_type": "code",
   "execution_count": 14,
   "id": "a6a981dd",
   "metadata": {
    "scrolled": false
   },
   "outputs": [
    {
     "name": "stdout",
     "output_type": "stream",
     "text": [
      "1/1 [==============================] - 0s 65ms/step\n"
     ]
    },
    {
     "name": "stderr",
     "output_type": "stream",
     "text": [
      "2022-08-16 20:36:30.236752: I tensorflow/core/grappler/optimizers/custom_graph_optimizer_registry.cc:113] Plugin optimizer for device_type GPU is enabled.\n"
     ]
    },
    {
     "data": {
      "text/html": [
       "<div>\n",
       "<style scoped>\n",
       "    .dataframe tbody tr th:only-of-type {\n",
       "        vertical-align: middle;\n",
       "    }\n",
       "\n",
       "    .dataframe tbody tr th {\n",
       "        vertical-align: top;\n",
       "    }\n",
       "\n",
       "    .dataframe thead th {\n",
       "        text-align: right;\n",
       "    }\n",
       "</style>\n",
       "<table border=\"1\" class=\"dataframe\">\n",
       "  <thead>\n",
       "    <tr style=\"text-align: right;\">\n",
       "      <th></th>\n",
       "      <th>Num_trips</th>\n",
       "      <th>prediction_num_trips</th>\n",
       "    </tr>\n",
       "  </thead>\n",
       "  <tbody>\n",
       "    <tr>\n",
       "      <th>869526</th>\n",
       "      <td>489</td>\n",
       "      <td>397.478027</td>\n",
       "    </tr>\n",
       "    <tr>\n",
       "      <th>869527</th>\n",
       "      <td>257</td>\n",
       "      <td>260.786560</td>\n",
       "    </tr>\n",
       "    <tr>\n",
       "      <th>869528</th>\n",
       "      <td>154</td>\n",
       "      <td>139.096848</td>\n",
       "    </tr>\n",
       "    <tr>\n",
       "      <th>869529</th>\n",
       "      <td>172</td>\n",
       "      <td>171.483337</td>\n",
       "    </tr>\n",
       "    <tr>\n",
       "      <th>869530</th>\n",
       "      <td>69</td>\n",
       "      <td>72.226959</td>\n",
       "    </tr>\n",
       "    <tr>\n",
       "      <th>869531</th>\n",
       "      <td>191</td>\n",
       "      <td>220.630081</td>\n",
       "    </tr>\n",
       "    <tr>\n",
       "      <th>869532</th>\n",
       "      <td>31</td>\n",
       "      <td>22.376217</td>\n",
       "    </tr>\n",
       "    <tr>\n",
       "      <th>869533</th>\n",
       "      <td>260</td>\n",
       "      <td>239.920273</td>\n",
       "    </tr>\n",
       "    <tr>\n",
       "      <th>869534</th>\n",
       "      <td>149</td>\n",
       "      <td>143.006683</td>\n",
       "    </tr>\n",
       "    <tr>\n",
       "      <th>869535</th>\n",
       "      <td>128</td>\n",
       "      <td>156.332870</td>\n",
       "    </tr>\n",
       "  </tbody>\n",
       "</table>\n",
       "</div>"
      ],
      "text/plain": [
       "        Num_trips  prediction_num_trips\n",
       "869526        489            397.478027\n",
       "869527        257            260.786560\n",
       "869528        154            139.096848\n",
       "869529        172            171.483337\n",
       "869530         69             72.226959\n",
       "869531        191            220.630081\n",
       "869532         31             22.376217\n",
       "869533        260            239.920273\n",
       "869534        149            143.006683\n",
       "869535        128            156.332870"
      ]
     },
     "execution_count": 14,
     "metadata": {},
     "output_type": "execute_result"
    }
   ],
   "source": [
    "comparison = y_test.iloc[:10].copy()\n",
    "comparison.loc[:, 'prediction_num_trips'] = model.predict(X_test.head(10))\n",
    "comparison"
   ]
  },
  {
   "cell_type": "code",
   "execution_count": null,
   "id": "f9c8d8c1",
   "metadata": {},
   "outputs": [],
   "source": []
  }
 ],
 "metadata": {
  "kernelspec": {
   "display_name": "Python 3 (ipykernel)",
   "language": "python",
   "name": "python3"
  },
  "language_info": {
   "codemirror_mode": {
    "name": "ipython",
    "version": 3
   },
   "file_extension": ".py",
   "mimetype": "text/x-python",
   "name": "python",
   "nbconvert_exporter": "python",
   "pygments_lexer": "ipython3",
   "version": "3.9.13"
  }
 },
 "nbformat": 4,
 "nbformat_minor": 5
}
