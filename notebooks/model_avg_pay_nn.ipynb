{
 "cells": [
  {
   "cell_type": "markdown",
   "id": "15bc44ce-5b2e-444d-9317-e6455b2ae308",
   "metadata": {},
   "source": [
    "<h1>Neural Network - Average Driver Pay<h1>"
   ]
  },
  {
   "cell_type": "markdown",
   "id": "78c894e2",
   "metadata": {},
   "source": [
    "This notebook is modelled off the Neural Network notebook offered by University of Melbourne tutor Lucas Fern\n",
    "https://github.com/lucas-fern/MAST30034-wk4-NNs"
   ]
  },
  {
   "cell_type": "code",
   "execution_count": 1,
   "id": "1c9e2a05-ce2b-4bce-97e4-3f405398b481",
   "metadata": {},
   "outputs": [],
   "source": [
    "from tensorflow import keras\n",
    "from tensorflow.keras.layers import Dense, Normalization"
   ]
  },
  {
   "cell_type": "code",
   "execution_count": 2,
   "id": "af2da787-1c5e-4ed3-acc8-cfb4b62aaedd",
   "metadata": {},
   "outputs": [],
   "source": [
    "from sklearn.model_selection import train_test_split\n",
    "import pandas as pd\n",
    "from pyspark.sql import SparkSession\n",
    "from pyspark.sql import functions as F\n",
    "from pyspark.sql.functions import sum,avg,max,min,mean,count\n",
    "import numpy as np"
   ]
  },
  {
   "cell_type": "code",
   "execution_count": 3,
   "id": "5a828896",
   "metadata": {},
   "outputs": [
    {
     "name": "stdout",
     "output_type": "stream",
     "text": [
      "22/08/16 21:07:55 WARN Utils: Your hostname, Sens-MacBook-Air.local resolves to a loopback address: 127.0.0.1; using 192.168.0.11 instead (on interface en0)\n",
      "22/08/16 21:07:55 WARN Utils: Set SPARK_LOCAL_IP if you need to bind to another address\n"
     ]
    },
    {
     "name": "stderr",
     "output_type": "stream",
     "text": [
      "Setting default log level to \"WARN\".\n",
      "To adjust logging level use sc.setLogLevel(newLevel). For SparkR, use setLogLevel(newLevel).\n"
     ]
    },
    {
     "name": "stdout",
     "output_type": "stream",
     "text": [
      "22/08/16 21:07:56 WARN NativeCodeLoader: Unable to load native-hadoop library for your platform... using builtin-java classes where applicable\n"
     ]
    }
   ],
   "source": [
    "spark = (\n",
    "    SparkSession.builder.appName(\"MAST30034 Tutorial 1\")\n",
    "    .config(\"spark.sql.repl.eagerEval.enabled\", True) \n",
    "    .config(\"spark.sql.parquet.cacheMetadata\", \"true\")\n",
    "    .config(\"spark.driver.memory\", \"8g\")\n",
    "    .config(\"spark.sql.parquet.enableVectorizedReader\", False)\n",
    "    .config(\"spark.sql.session.timeZone\", \"Etc/UTC\")\n",
    "    .getOrCreate()\n",
    ")"
   ]
  },
  {
   "cell_type": "code",
   "execution_count": 4,
   "id": "317cfbb1",
   "metadata": {
    "scrolled": true
   },
   "outputs": [
    {
     "name": "stderr",
     "output_type": "stream",
     "text": [
      "                                                                                \r"
     ]
    }
   ],
   "source": [
    "sdf = spark.read.parquet('../data/curated/combined_data')"
   ]
  },
  {
   "cell_type": "code",
   "execution_count": 5,
   "id": "4eec506f",
   "metadata": {},
   "outputs": [
    {
     "name": "stderr",
     "output_type": "stream",
     "text": [
      "                                                                                \r"
     ]
    }
   ],
   "source": [
    "df = sdf.groupby('Date', 'Hour', 'PU_Location_ID').agg(avg(\"Temperature_C\").alias(\"Temperature_C\"), \\\n",
    "                                                           avg(\"Humidity_%\").alias(\"Humidity_%\"), \\\n",
    "                                                           avg(\"Speed_kmh\").alias(\"Speed_kmh\"), \\\n",
    "                                                           avg(\"Precip_Rate_mm\").alias(\"Precip_rate_mm\"), \\\n",
    "                                                           avg(\"Driver_pay\").alias(\"Avg_driver_pay\"), \\\n",
    "                                                           avg(\"Day_of_week\").alias(\"Day_of_week\"), \\\n",
    "                                                           count('Temperature_C').alias(\"Num_trips\")).toPandas()"
   ]
  },
  {
   "cell_type": "code",
   "execution_count": 6,
   "id": "d4bca672",
   "metadata": {},
   "outputs": [
    {
     "data": {
      "text/html": [
       "<div>\n",
       "<style scoped>\n",
       "    .dataframe tbody tr th:only-of-type {\n",
       "        vertical-align: middle;\n",
       "    }\n",
       "\n",
       "    .dataframe tbody tr th {\n",
       "        vertical-align: top;\n",
       "    }\n",
       "\n",
       "    .dataframe thead th {\n",
       "        text-align: right;\n",
       "    }\n",
       "</style>\n",
       "<table border=\"1\" class=\"dataframe\">\n",
       "  <thead>\n",
       "    <tr style=\"text-align: right;\">\n",
       "      <th></th>\n",
       "      <th>Date</th>\n",
       "      <th>Hour</th>\n",
       "      <th>PU_Location_ID</th>\n",
       "      <th>Temperature_C</th>\n",
       "      <th>Humidity_%</th>\n",
       "      <th>Speed_kmh</th>\n",
       "      <th>Precip_rate_mm</th>\n",
       "      <th>Avg_driver_pay</th>\n",
       "      <th>Day_of_week</th>\n",
       "      <th>Num_trips</th>\n",
       "    </tr>\n",
       "  </thead>\n",
       "  <tbody>\n",
       "    <tr>\n",
       "      <th>0</th>\n",
       "      <td>2019-03-01</td>\n",
       "      <td>0</td>\n",
       "      <td>175</td>\n",
       "      <td>-1.11</td>\n",
       "      <td>47.0</td>\n",
       "      <td>15.29</td>\n",
       "      <td>0.0</td>\n",
       "      <td>15.38</td>\n",
       "      <td>6.0</td>\n",
       "      <td>8</td>\n",
       "    </tr>\n",
       "  </tbody>\n",
       "</table>\n",
       "</div>"
      ],
      "text/plain": [
       "         Date  Hour  PU_Location_ID  Temperature_C  Humidity_%  Speed_kmh  \\\n",
       "0  2019-03-01     0             175          -1.11        47.0      15.29   \n",
       "\n",
       "   Precip_rate_mm  Avg_driver_pay  Day_of_week  Num_trips  \n",
       "0             0.0           15.38          6.0          8  "
      ]
     },
     "execution_count": 6,
     "metadata": {},
     "output_type": "execute_result"
    }
   ],
   "source": [
    "df.head(1)"
   ]
  },
  {
   "cell_type": "code",
   "execution_count": 7,
   "id": "a043b7d3",
   "metadata": {},
   "outputs": [
    {
     "data": {
      "text/html": [
       "<div>\n",
       "<style scoped>\n",
       "    .dataframe tbody tr th:only-of-type {\n",
       "        vertical-align: middle;\n",
       "    }\n",
       "\n",
       "    .dataframe tbody tr th {\n",
       "        vertical-align: top;\n",
       "    }\n",
       "\n",
       "    .dataframe thead th {\n",
       "        text-align: right;\n",
       "    }\n",
       "</style>\n",
       "<table border=\"1\" class=\"dataframe\">\n",
       "  <thead>\n",
       "    <tr style=\"text-align: right;\">\n",
       "      <th></th>\n",
       "      <th>Date</th>\n",
       "      <th>Hour</th>\n",
       "      <th>PU_Location_ID</th>\n",
       "      <th>Temperature_C</th>\n",
       "      <th>Humidity_%</th>\n",
       "      <th>Speed_kmh</th>\n",
       "      <th>Precip_rate_mm</th>\n",
       "      <th>Avg_driver_pay</th>\n",
       "      <th>Day_of_week</th>\n",
       "      <th>Num_trips</th>\n",
       "    </tr>\n",
       "  </thead>\n",
       "  <tbody>\n",
       "    <tr>\n",
       "      <th>1559868</th>\n",
       "      <td>2019-02-01</td>\n",
       "      <td>8</td>\n",
       "      <td>1</td>\n",
       "      <td>-11.00</td>\n",
       "      <td>41.0</td>\n",
       "      <td>5.63</td>\n",
       "      <td>0.0</td>\n",
       "      <td>15.475</td>\n",
       "      <td>6.0</td>\n",
       "      <td>2</td>\n",
       "    </tr>\n",
       "    <tr>\n",
       "      <th>1554834</th>\n",
       "      <td>2019-02-01</td>\n",
       "      <td>9</td>\n",
       "      <td>1</td>\n",
       "      <td>-10.50</td>\n",
       "      <td>39.0</td>\n",
       "      <td>5.95</td>\n",
       "      <td>0.0</td>\n",
       "      <td>33.730</td>\n",
       "      <td>6.0</td>\n",
       "      <td>1</td>\n",
       "    </tr>\n",
       "    <tr>\n",
       "      <th>1276356</th>\n",
       "      <td>2019-02-01</td>\n",
       "      <td>14</td>\n",
       "      <td>1</td>\n",
       "      <td>-6.39</td>\n",
       "      <td>32.0</td>\n",
       "      <td>1.93</td>\n",
       "      <td>0.0</td>\n",
       "      <td>44.540</td>\n",
       "      <td>6.0</td>\n",
       "      <td>1</td>\n",
       "    </tr>\n",
       "    <tr>\n",
       "      <th>1544836</th>\n",
       "      <td>2019-02-01</td>\n",
       "      <td>16</td>\n",
       "      <td>1</td>\n",
       "      <td>-6.11</td>\n",
       "      <td>37.0</td>\n",
       "      <td>6.28</td>\n",
       "      <td>0.0</td>\n",
       "      <td>30.480</td>\n",
       "      <td>6.0</td>\n",
       "      <td>1</td>\n",
       "    </tr>\n",
       "    <tr>\n",
       "      <th>1278061</th>\n",
       "      <td>2019-02-01</td>\n",
       "      <td>18</td>\n",
       "      <td>1</td>\n",
       "      <td>-5.56</td>\n",
       "      <td>39.0</td>\n",
       "      <td>2.25</td>\n",
       "      <td>0.0</td>\n",
       "      <td>43.210</td>\n",
       "      <td>6.0</td>\n",
       "      <td>1</td>\n",
       "    </tr>\n",
       "  </tbody>\n",
       "</table>\n",
       "</div>"
      ],
      "text/plain": [
       "               Date  Hour  PU_Location_ID  Temperature_C  Humidity_%  \\\n",
       "1559868  2019-02-01     8               1         -11.00        41.0   \n",
       "1554834  2019-02-01     9               1         -10.50        39.0   \n",
       "1276356  2019-02-01    14               1          -6.39        32.0   \n",
       "1544836  2019-02-01    16               1          -6.11        37.0   \n",
       "1278061  2019-02-01    18               1          -5.56        39.0   \n",
       "\n",
       "         Speed_kmh  Precip_rate_mm  Avg_driver_pay  Day_of_week  Num_trips  \n",
       "1559868       5.63             0.0          15.475          6.0          2  \n",
       "1554834       5.95             0.0          33.730          6.0          1  \n",
       "1276356       1.93             0.0          44.540          6.0          1  \n",
       "1544836       6.28             0.0          30.480          6.0          1  \n",
       "1278061       2.25             0.0          43.210          6.0          1  "
      ]
     },
     "execution_count": 7,
     "metadata": {},
     "output_type": "execute_result"
    }
   ],
   "source": [
    "df = df.sort_values(['Date', 'PU_Location_ID', 'Hour'], axis = 0)\n",
    "df.head(5)"
   ]
  },
  {
   "cell_type": "code",
   "execution_count": 8,
   "id": "f4ea672e",
   "metadata": {},
   "outputs": [],
   "source": [
    "#df = df.drop('Date', axis = 1)"
   ]
  },
  {
   "cell_type": "code",
   "execution_count": 9,
   "id": "1d3d8827",
   "metadata": {
    "scrolled": false
   },
   "outputs": [],
   "source": [
    "df = pd.get_dummies(df, columns=['Hour', 'PU_Location_ID', 'Day_of_week'])"
   ]
  },
  {
   "cell_type": "markdown",
   "id": "9c17df81",
   "metadata": {},
   "source": [
    "Make sure that model will be testing predictions on future dates by setting shuffle to false"
   ]
  },
  {
   "cell_type": "code",
   "execution_count": 10,
   "id": "295c2727",
   "metadata": {},
   "outputs": [],
   "source": [
    "TARGET_COLS = ['Avg_driver_pay']\n",
    "\n",
    "train, test = train_test_split(df, train_size=0.8, shuffle = False)\n",
    "\n",
    "X_train, y_train = train.drop(TARGET_COLS, axis=1).drop(['Num_trips', 'Date'], axis=1), train[TARGET_COLS]\n",
    "X_test, y_test = test.drop(TARGET_COLS, axis=1).drop(['Num_trips', 'Date'], axis=1), test[TARGET_COLS]"
   ]
  },
  {
   "cell_type": "code",
   "execution_count": 11,
   "id": "b7ea58df",
   "metadata": {
    "scrolled": true
   },
   "outputs": [
    {
     "name": "stdout",
     "output_type": "stream",
     "text": [
      "Metal device set to: Apple M1\n"
     ]
    },
    {
     "name": "stderr",
     "output_type": "stream",
     "text": [
      "2022-08-16 21:08:51.974295: I tensorflow/core/common_runtime/pluggable_device/pluggable_device_factory.cc:305] Could not identify NUMA node of platform GPU ID 0, defaulting to 0. Your kernel may not have been built with NUMA support.\n",
      "2022-08-16 21:08:51.974449: I tensorflow/core/common_runtime/pluggable_device/pluggable_device_factory.cc:271] Created TensorFlow device (/job:localhost/replica:0/task:0/device:GPU:0 with 0 MB memory) -> physical PluggableDevice (device: 0, name: METAL, pci bus id: <undefined>)\n",
      "2022-08-16 21:08:57.751183: W tensorflow/core/platform/profile_utils/cpu_utils.cc:128] Failed to get CPU frequency: 0 Hz\n",
      "2022-08-16 21:08:57.867136: I tensorflow/core/grappler/optimizers/custom_graph_optimizer_registry.cc:113] Plugin optimizer for device_type GPU is enabled.\n",
      "2022-08-16 21:08:57.885777: I tensorflow/core/grappler/optimizers/custom_graph_optimizer_registry.cc:113] Plugin optimizer for device_type GPU is enabled.\n"
     ]
    }
   ],
   "source": [
    "norm_layer = Normalization()\n",
    "norm_layer.adapt(X_train)"
   ]
  },
  {
   "cell_type": "code",
   "execution_count": 12,
   "id": "1e98df83",
   "metadata": {},
   "outputs": [],
   "source": [
    "model = keras.Sequential(\n",
    "    [   \n",
    "        norm_layer,\n",
    "        Dense(10, activation='relu'),\n",
    "        Dense(1, activation='relu')\n",
    "    ]\n",
    ")"
   ]
  },
  {
   "cell_type": "code",
   "execution_count": 13,
   "id": "87f191d3",
   "metadata": {},
   "outputs": [],
   "source": [
    "model.compile(\n",
    "    optimizer='adam',\n",
    "    loss='MSE'\n",
    ")"
   ]
  },
  {
   "cell_type": "markdown",
   "id": "795342e6",
   "metadata": {},
   "source": [
    "5 epochs chosen experimentally because this is level where validation loss starts to level out"
   ]
  },
  {
   "cell_type": "code",
   "execution_count": 14,
   "id": "dd5a9f34",
   "metadata": {
    "scrolled": true
   },
   "outputs": [
    {
     "name": "stdout",
     "output_type": "stream",
     "text": [
      "Epoch 1/5\n",
      "   14/81606 [..............................] - ETA: 5:22 - loss: 256.3229   "
     ]
    },
    {
     "name": "stderr",
     "output_type": "stream",
     "text": [
      "2022-08-16 21:11:35.722346: I tensorflow/core/grappler/optimizers/custom_graph_optimizer_registry.cc:113] Plugin optimizer for device_type GPU is enabled.\n"
     ]
    },
    {
     "name": "stdout",
     "output_type": "stream",
     "text": [
      "81606/81606 [==============================] - ETA: 0s - loss: 15.4009"
     ]
    },
    {
     "name": "stderr",
     "output_type": "stream",
     "text": [
      "2022-08-16 21:16:51.639484: I tensorflow/core/grappler/optimizers/custom_graph_optimizer_registry.cc:113] Plugin optimizer for device_type GPU is enabled.\n"
     ]
    },
    {
     "name": "stdout",
     "output_type": "stream",
     "text": [
      "81606/81606 [==============================] - 375s 5ms/step - loss: 15.4009 - val_loss: 10.6238\n",
      "Epoch 2/5\n",
      "81606/81606 [==============================] - 357s 4ms/step - loss: 12.9193 - val_loss: 10.8759\n",
      "Epoch 3/5\n",
      "81606/81606 [==============================] - 355s 4ms/step - loss: 12.6981 - val_loss: 10.7448\n",
      "Epoch 4/5\n",
      "81606/81606 [==============================] - 355s 4ms/step - loss: 12.5293 - val_loss: 10.3279\n",
      "Epoch 5/5\n",
      "81606/81606 [==============================] - 358s 4ms/step - loss: 12.4245 - val_loss: 10.2659\n"
     ]
    }
   ],
   "source": [
    "history = model.fit(\n",
    "    x=X_train,\n",
    "    y=y_train,\n",
    "    batch_size=16,\n",
    "    validation_split=0.25,\n",
    "    epochs=5\n",
    ")"
   ]
  },
  {
   "cell_type": "code",
   "execution_count": 15,
   "id": "79c57584",
   "metadata": {},
   "outputs": [
    {
     "name": "stdout",
     "output_type": "stream",
     "text": [
      "1/1 [==============================] - 0s 73ms/step\n"
     ]
    },
    {
     "name": "stderr",
     "output_type": "stream",
     "text": [
      "2022-08-16 21:41:35.860019: I tensorflow/core/grappler/optimizers/custom_graph_optimizer_registry.cc:113] Plugin optimizer for device_type GPU is enabled.\n"
     ]
    },
    {
     "data": {
      "text/html": [
       "<div>\n",
       "<style scoped>\n",
       "    .dataframe tbody tr th:only-of-type {\n",
       "        vertical-align: middle;\n",
       "    }\n",
       "\n",
       "    .dataframe tbody tr th {\n",
       "        vertical-align: top;\n",
       "    }\n",
       "\n",
       "    .dataframe thead th {\n",
       "        text-align: right;\n",
       "    }\n",
       "</style>\n",
       "<table border=\"1\" class=\"dataframe\">\n",
       "  <thead>\n",
       "    <tr style=\"text-align: right;\">\n",
       "      <th></th>\n",
       "      <th>Avg_driver_pay</th>\n",
       "      <th>prediction_avg_pay</th>\n",
       "    </tr>\n",
       "  </thead>\n",
       "  <tbody>\n",
       "    <tr>\n",
       "      <th>1421589</th>\n",
       "      <td>22.206667</td>\n",
       "      <td>20.623829</td>\n",
       "    </tr>\n",
       "    <tr>\n",
       "      <th>1679459</th>\n",
       "      <td>15.556667</td>\n",
       "      <td>21.042217</td>\n",
       "    </tr>\n",
       "    <tr>\n",
       "      <th>600889</th>\n",
       "      <td>16.983902</td>\n",
       "      <td>19.256184</td>\n",
       "    </tr>\n",
       "    <tr>\n",
       "      <th>600890</th>\n",
       "      <td>15.181429</td>\n",
       "      <td>16.601954</td>\n",
       "    </tr>\n",
       "    <tr>\n",
       "      <th>592706</th>\n",
       "      <td>15.750909</td>\n",
       "      <td>16.055719</td>\n",
       "    </tr>\n",
       "    <tr>\n",
       "      <th>1420705</th>\n",
       "      <td>13.456703</td>\n",
       "      <td>15.084150</td>\n",
       "    </tr>\n",
       "    <tr>\n",
       "      <th>80970</th>\n",
       "      <td>14.172710</td>\n",
       "      <td>15.556137</td>\n",
       "    </tr>\n",
       "    <tr>\n",
       "      <th>79654</th>\n",
       "      <td>15.865714</td>\n",
       "      <td>16.260143</td>\n",
       "    </tr>\n",
       "    <tr>\n",
       "      <th>337620</th>\n",
       "      <td>16.064625</td>\n",
       "      <td>16.438223</td>\n",
       "    </tr>\n",
       "    <tr>\n",
       "      <th>880092</th>\n",
       "      <td>16.252400</td>\n",
       "      <td>17.761364</td>\n",
       "    </tr>\n",
       "  </tbody>\n",
       "</table>\n",
       "</div>"
      ],
      "text/plain": [
       "         Avg_driver_pay  prediction_avg_pay\n",
       "1421589       22.206667           20.623829\n",
       "1679459       15.556667           21.042217\n",
       "600889        16.983902           19.256184\n",
       "600890        15.181429           16.601954\n",
       "592706        15.750909           16.055719\n",
       "1420705       13.456703           15.084150\n",
       "80970         14.172710           15.556137\n",
       "79654         15.865714           16.260143\n",
       "337620        16.064625           16.438223\n",
       "880092        16.252400           17.761364"
      ]
     },
     "execution_count": 15,
     "metadata": {},
     "output_type": "execute_result"
    }
   ],
   "source": [
    "comparison = y_test.iloc[:10].copy()\n",
    "comparison.loc[:, 'prediction_avg_pay'] = model.predict(X_test.head(10))\n",
    "comparison"
   ]
  },
  {
   "cell_type": "code",
   "execution_count": 16,
   "id": "267e01aa",
   "metadata": {},
   "outputs": [
    {
     "name": "stdout",
     "output_type": "stream",
     "text": [
      "13601/13601 [==============================] - 22s 2ms/step\n",
      "MSE: 11.046708291874292\n"
     ]
    }
   ],
   "source": [
    "predictions = model.predict(X_test)\n",
    "errors = np.array(predictions - y_test)\n",
    "squared_errors = errors**2\n",
    "mean_squared_error = squared_errors.mean()\n",
    "\n",
    "print(f'MSE: {mean_squared_error}')"
   ]
  },
  {
   "cell_type": "code",
   "execution_count": 17,
   "id": "78400c2d",
   "metadata": {},
   "outputs": [
    {
     "name": "stdout",
     "output_type": "stream",
     "text": [
      "Model R^2: 0.4489\n"
     ]
    }
   ],
   "source": [
    "tot_sum_squares = (np.array(y_test - y_test.mean())**2).sum()\n",
    "r2 = 1 - (squared_errors.sum() / tot_sum_squares)\n",
    "print(f'Model R^2: {r2:.4f}')"
   ]
  },
  {
   "cell_type": "code",
   "execution_count": 20,
   "id": "e0ec91f7",
   "metadata": {},
   "outputs": [],
   "source": [
    "pd.DataFrame(predictions).to_csv('../data/curated/model_data/avg_driver_pay_pred_nn.csv')"
   ]
  }
 ],
 "metadata": {
  "kernelspec": {
   "display_name": "Python 3 (ipykernel)",
   "language": "python",
   "name": "python3"
  },
  "language_info": {
   "codemirror_mode": {
    "name": "ipython",
    "version": 3
   },
   "file_extension": ".py",
   "mimetype": "text/x-python",
   "name": "python",
   "nbconvert_exporter": "python",
   "pygments_lexer": "ipython3",
   "version": "3.9.13"
  }
 },
 "nbformat": 4,
 "nbformat_minor": 5
}
