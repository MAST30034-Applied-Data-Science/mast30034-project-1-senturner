{
 "cells": [
  {
   "cell_type": "markdown",
   "id": "1f2f8804-0e14-4144-b737-aa2e58decf5a",
   "metadata": {},
   "source": [
    "This notebook is responsible for downloading all the required data"
   ]
  },
  {
   "cell_type": "markdown",
   "id": "1448b945-9f87-41f6-9058-0db80757cf9a",
   "metadata": {},
   "source": [
    "Required imports"
   ]
  },
  {
   "cell_type": "code",
   "execution_count": 2,
   "id": "a961fbe9-35ee-48eb-931a-7d6f1cb4385d",
   "metadata": {},
   "outputs": [],
   "source": [
    "from urllib.request import urlretrieve\n",
    "import os"
   ]
  },
  {
   "cell_type": "markdown",
   "id": "70f2ce67-579d-42b3-82e7-4b1446e511d5",
   "metadata": {},
   "source": [
    "\n",
    "\n",
    "Code to read in the exterior data"
   ]
  },
  {
   "cell_type": "code",
   "execution_count": 4,
   "id": "e46a64c1-ed1a-42b3-a3db-a93a720da405",
   "metadata": {},
   "outputs": [
    {
     "data": {
      "text/plain": [
       "('../data/raw/weather_data.csv', <http.client.HTTPMessage at 0x7ff608315df0>)"
      ]
     },
     "execution_count": 4,
     "metadata": {},
     "output_type": "execute_result"
    }
   ],
   "source": [
    "urlretrieve('https://www.ncei.noaa.gov/data/daily-summaries/access/USW00094728.csv', '../data/raw/weather_data.csv')"
   ]
  },
  {
   "cell_type": "markdown",
   "id": "ecec74a6-e6de-4942-ba59-301575d84689",
   "metadata": {},
   "source": [
    "Code to read taxi data into parquet for desired timeframe, modified from Python_PreReq_Notebook.\n",
    "Decided to use 2 year time frame to account for all seasons, which are directly associated with weather and thus provide a relevant frame for the study. Used COVID free years to mitigate confounding variables."
   ]
  },
  {
   "cell_type": "markdown",
   "id": "69922e33-556d-433c-bf0c-85f83fae7331",
   "metadata": {},
   "source": [
    "ACTUALLY USE GRAPHS/FIGURES TO JUSTIFY THIS NON-INCLUSION"
   ]
  },
  {
   "cell_type": "code",
   "execution_count": 9,
   "id": "aaee682f-6ffb-43a9-9a3b-a4f9aec4957c",
   "metadata": {},
   "outputs": [],
   "source": [
    "YEARS = ('2017', '2018')\n",
    "MONTHS = range(1, 13)"
   ]
  },
  {
   "cell_type": "code",
   "execution_count": 10,
   "id": "9da709ef-f7f5-461b-9d80-1fbf180a9640",
   "metadata": {},
   "outputs": [],
   "source": [
    "URL_TEMPLATE = \"https://d37ci6vzurychx.cloudfront.net/trip-data/yellow_tripdata_\""
   ]
  },
  {
   "cell_type": "code",
   "execution_count": 12,
   "id": "ac68028c-3f1d-45d3-80ba-21bddee33e2e",
   "metadata": {},
   "outputs": [
    {
     "name": "stdout",
     "output_type": "stream",
     "text": [
      "Begin month 01 year 2017\n",
      "Completed month 01 year 2017\n",
      "Begin month 02 year 2017\n",
      "Completed month 02 year 2017\n",
      "Begin month 03 year 2017\n",
      "Completed month 03 year 2017\n",
      "Begin month 04 year 2017\n",
      "Completed month 04 year 2017\n",
      "Begin month 05 year 2017\n",
      "Completed month 05 year 2017\n",
      "Begin month 06 year 2017\n",
      "Completed month 06 year 2017\n",
      "Begin month 07 year 2017\n",
      "Completed month 07 year 2017\n",
      "Begin month 08 year 2017\n",
      "Completed month 08 year 2017\n",
      "Begin month 09 year 2017\n",
      "Completed month 09 year 2017\n",
      "Begin month 10 year 2017\n",
      "Completed month 10 year 2017\n",
      "Begin month 11 year 2017\n",
      "Completed month 11 year 2017\n",
      "Begin month 12 year 2017\n",
      "Completed month 12 year 2017\n",
      "Begin month 01 year 2018\n",
      "Completed month 01 year 2018\n",
      "Begin month 02 year 2018\n",
      "Completed month 02 year 2018\n",
      "Begin month 03 year 2018\n",
      "Completed month 03 year 2018\n",
      "Begin month 04 year 2018\n",
      "Completed month 04 year 2018\n",
      "Begin month 05 year 2018\n",
      "Completed month 05 year 2018\n",
      "Begin month 06 year 2018\n",
      "Completed month 06 year 2018\n",
      "Begin month 07 year 2018\n",
      "Completed month 07 year 2018\n",
      "Begin month 08 year 2018\n",
      "Completed month 08 year 2018\n",
      "Begin month 09 year 2018\n",
      "Completed month 09 year 2018\n",
      "Begin month 10 year 2018\n",
      "Completed month 10 year 2018\n",
      "Begin month 11 year 2018\n",
      "Completed month 11 year 2018\n",
      "Begin month 12 year 2018\n",
      "Completed month 12 year 2018\n"
     ]
    }
   ],
   "source": [
    "taxi_output_dir = '../data/raw/taxi_data'\n",
    "os.makedirs(taxi_output_dir)\n",
    "\n",
    "for year in YEARS:\n",
    "    for month in MONTHS:\n",
    "        month = str(month).zfill(2) \n",
    "        print(f\"Begin month {month} year {year}\")\n",
    "\n",
    "        # generate url\n",
    "        url = f'{URL_TEMPLATE}{year}-{month}.parquet'\n",
    "        # generate output location and filename\n",
    "        output_dir = f\"{taxi_output_dir}/{year}-{month}.parquet\"\n",
    "        # download\n",
    "        urlretrieve(url, output_dir) \n",
    "\n",
    "        print(f\"Completed month {month} year {year}\")"
   ]
  }
 ],
 "metadata": {
  "kernelspec": {
   "display_name": "Python 3 (ipykernel)",
   "language": "python",
   "name": "python3"
  },
  "language_info": {
   "codemirror_mode": {
    "name": "ipython",
    "version": 3
   },
   "file_extension": ".py",
   "mimetype": "text/x-python",
   "name": "python",
   "nbconvert_exporter": "python",
   "pygments_lexer": "ipython3",
   "version": "3.9.7"
  }
 },
 "nbformat": 4,
 "nbformat_minor": 5
}
