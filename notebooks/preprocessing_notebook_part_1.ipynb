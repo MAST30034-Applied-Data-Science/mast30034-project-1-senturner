{
 "cells": [
  {
   "cell_type": "markdown",
   "id": "01a0b86c",
   "metadata": {},
   "source": [
    "<h1>Taxi Data Download<h1>"
   ]
  },
  {
   "cell_type": "markdown",
   "id": "1f2f8804-0e14-4144-b737-aa2e58decf5a",
   "metadata": {},
   "source": [
    "This notebook is responsible for downloading all the required taxi data (and some additional for graphing COVID effect)"
   ]
  },
  {
   "cell_type": "code",
   "execution_count": 1,
   "id": "a961fbe9-35ee-48eb-931a-7d6f1cb4385d",
   "metadata": {},
   "outputs": [],
   "source": [
    "from urllib.request import urlretrieve\n",
    "import os"
   ]
  },
  {
   "cell_type": "markdown",
   "id": "ecec74a6-e6de-4942-ba59-301575d84689",
   "metadata": {},
   "source": [
    "Code to read taxi data into parquet for desired timeframe, modified from Python_PreReq_Notebook.\n",
    "Decided to use a full year time frame to account for all seasons, which are directly associated with weather and thus provide a relevant frame for the study. Used COVID free years to reduce external impacts (effect of COVID demonstrated in data_analysis_trips.ipynb)."
   ]
  },
  {
   "cell_type": "code",
   "execution_count": 2,
   "id": "aaee682f-6ffb-43a9-9a3b-a4f9aec4957c",
   "metadata": {},
   "outputs": [],
   "source": [
    "YEARS = ('2019', '2020')\n",
    "MONTHS = range(1, 13)"
   ]
  },
  {
   "cell_type": "code",
   "execution_count": 3,
   "id": "9da709ef-f7f5-461b-9d80-1fbf180a9640",
   "metadata": {},
   "outputs": [],
   "source": [
    "URL_TEMPLATE = \"https://d37ci6vzurychx.cloudfront.net/trip-data/fhvhv_tripdata_\""
   ]
  },
  {
   "cell_type": "code",
   "execution_count": 4,
   "id": "ac68028c-3f1d-45d3-80ba-21bddee33e2e",
   "metadata": {
    "scrolled": true
   },
   "outputs": [],
   "source": [
    "taxi_output_dir = '../data/raw/fhv_taxi_data'\n",
    "if not os.path.exists(taxi_output_dir):\n",
    "    os.makedirs(taxi_output_dir)\n",
    "\n",
    "for year in YEARS:\n",
    "    for month in MONTHS:\n",
    "        if (year == '2019' and month == 1):\n",
    "            continue;\n",
    "        month = str(month).zfill(2) \n",
    "        print(f\"Begin month {month} year {year}\")\n",
    "\n",
    "        # generate url\n",
    "        url = f'{URL_TEMPLATE}{year}-{month}.parquet'\n",
    "        # generate output location and filename\n",
    "        output_dir = f\"{taxi_output_dir}/{year}-{month}.parquet\"\n",
    "        # download\n",
    "        urlretrieve(url, output_dir) \n",
    "\n",
    "        print(f\"Completed month {month} year {year}\")"
   ]
  },
  {
   "cell_type": "markdown",
   "id": "3a4abe21-9856-4d22-a9d1-d03636535c12",
   "metadata": {},
   "source": [
    "Weather data downloaded using script"
   ]
  }
 ],
 "metadata": {
  "kernelspec": {
   "display_name": "Python 3 (ipykernel)",
   "language": "python",
   "name": "python3"
  },
  "language_info": {
   "codemirror_mode": {
    "name": "ipython",
    "version": 3
   },
   "file_extension": ".py",
   "mimetype": "text/x-python",
   "name": "python",
   "nbconvert_exporter": "python",
   "pygments_lexer": "ipython3",
   "version": "3.9.13"
  }
 },
 "nbformat": 4,
 "nbformat_minor": 5
}
